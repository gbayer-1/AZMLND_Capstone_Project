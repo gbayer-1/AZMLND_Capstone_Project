{
  "cells": [
    {
      "cell_type": "markdown",
      "source": [
        "# Hyperparameter Tuning using HyperDrive\n",
        "\n",
        "TODO: Import Dependencies. In the cell below, import all the dependencies that you will need to complete the project."
      ],
      "metadata": {}
    },
    {
      "cell_type": "code",
      "source": [
        "from azureml.core import Workspace, Experiment\n",
        "from azureml.core.compute import ComputeTarget, AmlCompute\n",
        "from azureml.exceptions import ComputeTargetException\n",
        "from azureml.data.dataset_factory import TabularDatasetFactory\n",
        "from azureml.widgets import RunDetails"
      ],
      "outputs": [],
      "execution_count": 1,
      "metadata": {
        "gather": {
          "logged": 1635337412084
        }
      }
    },
    {
      "cell_type": "markdown",
      "source": [
        "## Dataset\n",
        "\n",
        "TODO: Get data. In the cell below, write code to access the data you will be using in this project. Remember that the dataset needs to be external."
      ],
      "metadata": {}
    },
    {
      "cell_type": "markdown",
      "source": [
        "### Setup workspace and experiment"
      ],
      "metadata": {}
    },
    {
      "cell_type": "code",
      "source": [
        "ws = Workspace.from_config()\n",
        "\n",
        "# print some information about the workspace\n",
        "print('Workspace name: ' + ws.name, \n",
        "      'Azure region: ' + ws.location, \n",
        "      'Subscription id: ' + ws.subscription_id, \n",
        "      'Resource group: ' + ws.resource_group, sep = '\\n')\n",
        "\n",
        "# choose a name for experiment\n",
        "experiment_name = 'heart-failure-experiment'\n",
        "\n",
        "experiment=Experiment(ws, experiment_name)"
      ],
      "outputs": [
        {
          "output_type": "stream",
          "name": "stdout",
          "text": "Workspace name: quick-starts-ws-162187\nAzure region: southcentralus\nSubscription id: d7f39349-a66b-446e-aba6-0053c2cf1c11\nResource group: aml-quickstarts-162187\n"
        }
      ],
      "execution_count": 2,
      "metadata": {
        "gather": {
          "logged": 1635337417037
        },
        "jupyter": {
          "outputs_hidden": false,
          "source_hidden": false
        },
        "nteract": {
          "transient": {
            "deleting": false
          }
        }
      }
    },
    {
      "cell_type": "markdown",
      "source": [
        "### Create a cluster\n",
        "\n",
        "Reuse the AutoML cluster or create a new one, if it doesn't exist"
      ],
      "metadata": {}
    },
    {
      "cell_type": "code",
      "source": [
        "cluster_name = \"expcluster\"\n",
        "\n",
        "# Use existing cluster, if it exists\n",
        "try:\n",
        "    compute_target = ComputeTarget(workspace=ws, name = cluster_name)\n",
        "    print('Found existing cluster, use it!')\n",
        "except ComputeTargetException:\n",
        "    compute_config = AmlCompute.provisioning_configuration(vm_size='Standard_DS12_v2',\n",
        "                                                          max_nodes=6, min_nodes=1)\n",
        "    compute_target = ComputeTarget.create(workspace=ws, name=cluster_name, provisioning_configuration=compute_config)\n",
        "compute_target.wait_for_completion(show_output=True)"
      ],
      "outputs": [
        {
          "output_type": "stream",
          "name": "stdout",
          "text": "Found existing cluster, use it!\nSucceeded\nAmlCompute wait for completion finished\n\nMinimum number of nodes requested have been provisioned\n"
        }
      ],
      "execution_count": 3,
      "metadata": {
        "gather": {
          "logged": 1635172457525
        }
      }
    },
    {
      "cell_type": "markdown",
      "source": [
        "### Create Dataset\n",
        "Reuse the dataset from the AutoML run or upload it, if it doesn't exist."
      ],
      "metadata": {}
    },
    {
      "cell_type": "code",
      "source": [
        "from train import read_data\n",
        "dataset=read_data()\n",
        "df = dataset.to_pandas_dataframe()\n",
        "df.describe()"
      ],
      "outputs": [
        {
          "output_type": "stream",
          "name": "stdout",
          "text": "Uploading an estimated of 1 files\nUploading ./data/heart.csv\nUploaded ./data/heart.csv, 1 files out of an estimated total of 1\nUploaded 1 files\nValidating arguments.\nArguments validated.\nSuccessfully obtained datastore reference and path.\nUploading file to managed-dataset/2836e50e-adee-43bf-b8a7-44fb85bf2a8e/\nSuccessfully uploaded file to datastore.\nCreating and registering a new dataset.\nSuccessfully created and registered a new dataset.\n"
        },
        {
          "output_type": "stream",
          "name": "stderr",
          "text": "Method register_pandas_dataframe: This is an experimental method, and may change at any time. Please see https://aka.ms/azuremlexperimental for more information.\n"
        },
        {
          "output_type": "execute_result",
          "execution_count": 3,
          "data": {
            "text/plain": "              Age         Sex   RestingBP  Cholesterol   FastingBS  \\\ncount  918.000000  918.000000  918.000000   918.000000  918.000000   \nmean    53.510893    0.789760  132.396514   198.799564    0.233115   \nstd      9.432617    0.407701   18.514154   109.384145    0.423046   \nmin     28.000000    0.000000    0.000000     0.000000    0.000000   \n25%     47.000000    1.000000  120.000000   173.250000    0.000000   \n50%     54.000000    1.000000  130.000000   223.000000    0.000000   \n75%     60.000000    1.000000  140.000000   267.000000    0.000000   \nmax     77.000000    1.000000  200.000000   603.000000    1.000000   \n\n            MaxHR  ExerciseAngina     Oldpeak    ST_Slope  HeartDisease  \\\ncount  918.000000      918.000000  918.000000  918.000000    918.000000   \nmean   136.809368        0.404139    0.887364    0.361656      0.553377   \nstd     25.460334        0.490992    1.066570    0.607056      0.497414   \nmin     60.000000        0.000000   -2.600000   -1.000000      0.000000   \n25%    120.000000        0.000000    0.000000    0.000000      0.000000   \n50%    138.000000        0.000000    0.600000    0.000000      1.000000   \n75%    156.000000        1.000000    1.500000    1.000000      1.000000   \nmax    202.000000        1.000000    6.200000    1.000000      1.000000   \n\n       ChestPainType_ASY  ChestPainType_ATA  ChestPainType_NAP  \\\ncount         918.000000         918.000000         918.000000   \nmean            0.540305           0.188453           0.221133   \nstd             0.498645           0.391287           0.415236   \nmin             0.000000           0.000000           0.000000   \n25%             0.000000           0.000000           0.000000   \n50%             1.000000           0.000000           0.000000   \n75%             1.000000           0.000000           0.000000   \nmax             1.000000           1.000000           1.000000   \n\n       ChestPainType_TA  RestingECG_LVH  RestingECG_Normal  RestingECG_ST  \ncount        918.000000      918.000000         918.000000     918.000000  \nmean           0.050109        0.204793           0.601307       0.193900  \nstd            0.218289        0.403770           0.489896       0.395567  \nmin            0.000000        0.000000           0.000000       0.000000  \n25%            0.000000        0.000000           0.000000       0.000000  \n50%            0.000000        0.000000           1.000000       0.000000  \n75%            0.000000        0.000000           1.000000       0.000000  \nmax            1.000000        1.000000           1.000000       1.000000  ",
            "text/html": "<div>\n<style scoped>\n    .dataframe tbody tr th:only-of-type {\n        vertical-align: middle;\n    }\n\n    .dataframe tbody tr th {\n        vertical-align: top;\n    }\n\n    .dataframe thead th {\n        text-align: right;\n    }\n</style>\n<table border=\"1\" class=\"dataframe\">\n  <thead>\n    <tr style=\"text-align: right;\">\n      <th></th>\n      <th>Age</th>\n      <th>Sex</th>\n      <th>RestingBP</th>\n      <th>Cholesterol</th>\n      <th>FastingBS</th>\n      <th>MaxHR</th>\n      <th>ExerciseAngina</th>\n      <th>Oldpeak</th>\n      <th>ST_Slope</th>\n      <th>HeartDisease</th>\n      <th>ChestPainType_ASY</th>\n      <th>ChestPainType_ATA</th>\n      <th>ChestPainType_NAP</th>\n      <th>ChestPainType_TA</th>\n      <th>RestingECG_LVH</th>\n      <th>RestingECG_Normal</th>\n      <th>RestingECG_ST</th>\n    </tr>\n  </thead>\n  <tbody>\n    <tr>\n      <th>count</th>\n      <td>918.000000</td>\n      <td>918.000000</td>\n      <td>918.000000</td>\n      <td>918.000000</td>\n      <td>918.000000</td>\n      <td>918.000000</td>\n      <td>918.000000</td>\n      <td>918.000000</td>\n      <td>918.000000</td>\n      <td>918.000000</td>\n      <td>918.000000</td>\n      <td>918.000000</td>\n      <td>918.000000</td>\n      <td>918.000000</td>\n      <td>918.000000</td>\n      <td>918.000000</td>\n      <td>918.000000</td>\n    </tr>\n    <tr>\n      <th>mean</th>\n      <td>53.510893</td>\n      <td>0.789760</td>\n      <td>132.396514</td>\n      <td>198.799564</td>\n      <td>0.233115</td>\n      <td>136.809368</td>\n      <td>0.404139</td>\n      <td>0.887364</td>\n      <td>0.361656</td>\n      <td>0.553377</td>\n      <td>0.540305</td>\n      <td>0.188453</td>\n      <td>0.221133</td>\n      <td>0.050109</td>\n      <td>0.204793</td>\n      <td>0.601307</td>\n      <td>0.193900</td>\n    </tr>\n    <tr>\n      <th>std</th>\n      <td>9.432617</td>\n      <td>0.407701</td>\n      <td>18.514154</td>\n      <td>109.384145</td>\n      <td>0.423046</td>\n      <td>25.460334</td>\n      <td>0.490992</td>\n      <td>1.066570</td>\n      <td>0.607056</td>\n      <td>0.497414</td>\n      <td>0.498645</td>\n      <td>0.391287</td>\n      <td>0.415236</td>\n      <td>0.218289</td>\n      <td>0.403770</td>\n      <td>0.489896</td>\n      <td>0.395567</td>\n    </tr>\n    <tr>\n      <th>min</th>\n      <td>28.000000</td>\n      <td>0.000000</td>\n      <td>0.000000</td>\n      <td>0.000000</td>\n      <td>0.000000</td>\n      <td>60.000000</td>\n      <td>0.000000</td>\n      <td>-2.600000</td>\n      <td>-1.000000</td>\n      <td>0.000000</td>\n      <td>0.000000</td>\n      <td>0.000000</td>\n      <td>0.000000</td>\n      <td>0.000000</td>\n      <td>0.000000</td>\n      <td>0.000000</td>\n      <td>0.000000</td>\n    </tr>\n    <tr>\n      <th>25%</th>\n      <td>47.000000</td>\n      <td>1.000000</td>\n      <td>120.000000</td>\n      <td>173.250000</td>\n      <td>0.000000</td>\n      <td>120.000000</td>\n      <td>0.000000</td>\n      <td>0.000000</td>\n      <td>0.000000</td>\n      <td>0.000000</td>\n      <td>0.000000</td>\n      <td>0.000000</td>\n      <td>0.000000</td>\n      <td>0.000000</td>\n      <td>0.000000</td>\n      <td>0.000000</td>\n      <td>0.000000</td>\n    </tr>\n    <tr>\n      <th>50%</th>\n      <td>54.000000</td>\n      <td>1.000000</td>\n      <td>130.000000</td>\n      <td>223.000000</td>\n      <td>0.000000</td>\n      <td>138.000000</td>\n      <td>0.000000</td>\n      <td>0.600000</td>\n      <td>0.000000</td>\n      <td>1.000000</td>\n      <td>1.000000</td>\n      <td>0.000000</td>\n      <td>0.000000</td>\n      <td>0.000000</td>\n      <td>0.000000</td>\n      <td>1.000000</td>\n      <td>0.000000</td>\n    </tr>\n    <tr>\n      <th>75%</th>\n      <td>60.000000</td>\n      <td>1.000000</td>\n      <td>140.000000</td>\n      <td>267.000000</td>\n      <td>0.000000</td>\n      <td>156.000000</td>\n      <td>1.000000</td>\n      <td>1.500000</td>\n      <td>1.000000</td>\n      <td>1.000000</td>\n      <td>1.000000</td>\n      <td>0.000000</td>\n      <td>0.000000</td>\n      <td>0.000000</td>\n      <td>0.000000</td>\n      <td>1.000000</td>\n      <td>0.000000</td>\n    </tr>\n    <tr>\n      <th>max</th>\n      <td>77.000000</td>\n      <td>1.000000</td>\n      <td>200.000000</td>\n      <td>603.000000</td>\n      <td>1.000000</td>\n      <td>202.000000</td>\n      <td>1.000000</td>\n      <td>6.200000</td>\n      <td>1.000000</td>\n      <td>1.000000</td>\n      <td>1.000000</td>\n      <td>1.000000</td>\n      <td>1.000000</td>\n      <td>1.000000</td>\n      <td>1.000000</td>\n      <td>1.000000</td>\n      <td>1.000000</td>\n    </tr>\n  </tbody>\n</table>\n</div>"
          },
          "metadata": {}
        }
      ],
      "execution_count": 3,
      "metadata": {
        "gather": {
          "logged": 1635337446536
        }
      }
    },
    {
      "cell_type": "markdown",
      "source": [
        "## Hyperdrive Configuration\n",
        "\n",
        "TODO: Explain the model you are using and the reason for chosing the different hyperparameters, termination policy and config settings."
      ],
      "metadata": {
        "collapsed": true,
        "gather": {
          "logged": 1598531923519
        },
        "jupyter": {
          "outputs_hidden": false,
          "source_hidden": false
        },
        "nteract": {
          "transient": {
            "deleting": false
          }
        }
      }
    },
    {
      "cell_type": "code",
      "source": [
        "from azureml.train.hyperdrive.policy import BanditPolicy\n",
        "from azureml.train.hyperdrive.sampling import RandomParameterSampling\n",
        "from azureml.train.hyperdrive.run import PrimaryMetricGoal\n",
        "from azureml.train.hyperdrive.runconfig import HyperDriveConfig\n",
        "from azureml.train.hyperdrive.parameter_expressions import uniform, choice, randint\n",
        "\n",
        "early_termination_policy = BanditPolicy(evaluation_interval=2, slack_factor=0.1)\n",
        "\n",
        "#TODO: Create the different params that you will be using during training\n",
        "param_sampling = RandomParameterSampling({\"--n_estimators\": randint(10000),\n",
        "    \"--max_depth\": choice(10, 100, 1000, 5000),\n",
        "    \"--min_samples_split\": randint(50)})\n",
        "\n",
        "from azureml.core import Environment\n",
        "from azureml.core import ScriptRunConfig\n",
        "\n",
        "env = Environment.from_conda_specification(name = 'env', file_path = './envs/conda_environment.yml')\n",
        "\n",
        "src = ScriptRunConfig(source_directory = \"./\",\n",
        "    script = \"train.py\",\n",
        "    compute_target = \"expcluster\",\n",
        "    environment = env)\n",
        "\n",
        "hyperdrive_run_config = HyperDriveConfig(run_config=src,\n",
        "    hyperparameter_sampling=param_sampling,\n",
        "    policy=early_termination_policy,\n",
        "    primary_metric_name=\"Accuracy\",\n",
        "    primary_metric_goal= PrimaryMetricGoal.MAXIMIZE,\n",
        "    max_total_runs=50,\n",
        "    max_concurrent_runs=5)"
      ],
      "outputs": [],
      "execution_count": 54,
      "metadata": {
        "gather": {
          "logged": 1635340357920
        },
        "jupyter": {
          "outputs_hidden": false,
          "source_hidden": false
        },
        "nteract": {
          "transient": {
            "deleting": false
          }
        }
      }
    },
    {
      "cell_type": "code",
      "source": [
        "#TODO: Submit your experiment\n",
        "hyperdrive_run = experiment.submit(hyperdrive_run_config)"
      ],
      "outputs": [],
      "execution_count": null,
      "metadata": {
        "gather": {
          "logged": 1635171726711
        },
        "jupyter": {
          "outputs_hidden": false,
          "source_hidden": false
        },
        "nteract": {
          "transient": {
            "deleting": false
          }
        }
      }
    },
    {
      "cell_type": "markdown",
      "source": [
        "## Run Details\n",
        "\n",
        "OPTIONAL: Write about the different models trained and their performance. Why do you think some models did better than others?\n",
        "\n",
        "TODO: In the cell below, use the `RunDetails` widget to show the different experiments."
      ],
      "metadata": {
        "collapsed": true,
        "gather": {
          "logged": 1598544898497
        },
        "jupyter": {
          "outputs_hidden": false,
          "source_hidden": false
        },
        "nteract": {
          "transient": {
            "deleting": false
          }
        }
      }
    },
    {
      "cell_type": "code",
      "source": [
        "RunDetails(hyperdrive_run).show()"
      ],
      "outputs": [],
      "execution_count": null,
      "metadata": {
        "gather": {
          "logged": 1635171727797
        },
        "jupyter": {
          "outputs_hidden": false,
          "source_hidden": false
        },
        "nteract": {
          "transient": {
            "deleting": false
          }
        }
      }
    },
    {
      "cell_type": "code",
      "source": [
        "hyperdrive_run.get_children_sorted_by_primary_metric()"
      ],
      "outputs": [],
      "execution_count": null,
      "metadata": {
        "gather": {
          "logged": 1635172310442
        },
        "jupyter": {
          "outputs_hidden": false,
          "source_hidden": false
        },
        "nteract": {
          "transient": {
            "deleting": false
          }
        }
      }
    },
    {
      "cell_type": "markdown",
      "source": [
        "## Best Model\n",
        "\n",
        "TODO: In the cell below, get the best model from the hyperdrive experiments and display all the properties of the model."
      ],
      "metadata": {}
    },
    {
      "cell_type": "code",
      "source": [
        "best_hyperdrive_run = hyperdrive_run.get_best_run_by_primary_metric()\n",
        "print(\"best run details: \", best_hyperdrive_run.get_details())\n",
        "print(\"best run metrics :\", best_hyperdrive_run.get_metrics())"
      ],
      "outputs": [],
      "execution_count": null,
      "metadata": {
        "gather": {
          "logged": 1635172319595
        },
        "jupyter": {
          "outputs_hidden": false,
          "source_hidden": false
        },
        "nteract": {
          "transient": {
            "deleting": false
          }
        }
      }
    },
    {
      "cell_type": "code",
      "source": [
        "#TODO: Save the best model\n",
        "for f in best_hyperdrive_run.get_file_names():\n",
        "    if f.startswith('outputs/hyperdrive_model.onnx'):\n",
        "        output_file_path = os.path.join('./hyperdrive_model', 'hyperdrive_model.onnx')\n",
        "        print('Downloading from {} to {} ...'.format(f, output_file_path))\n",
        "        best_hyperdrive_run.download_file(name=f, output_file_path=output_file_path)\n",
        "    elif f.startswith('outputs/model'):\n",
        "        output_file_path = os.path.join('./hyperdrive_model', 'hyperdrive_model.pkl')\n",
        "        print('Downloading from {} to {} ...'.format(f, output_file_path))\n",
        "        best_hyperdrive_run.download_file(name=f, output_file_path=output_file_path)"
      ],
      "outputs": [
        {
          "output_type": "stream",
          "name": "stdout",
          "text": "Downloading from outputs/hyperdrive_model.onnx to ./model/hyperdrive_model.onnx ...\n"
        }
      ],
      "execution_count": 59,
      "metadata": {
        "gather": {
          "logged": 1635172404915
        },
        "jupyter": {
          "outputs_hidden": false,
          "source_hidden": false
        },
        "nteract": {
          "transient": {
            "deleting": false
          }
        }
      }
    },
    {
      "cell_type": "markdown",
      "source": [
        "## Model Deployment\n",
        "\n",
        "Remember you have to deploy only one of the two models you trained but you still need to register both the models. Perform the steps in the rest of this notebook only if you wish to deploy this model.\n",
        "\n",
        "TODO: In the cell below, register the model, create an inference config and deploy the model as a web service."
      ],
      "metadata": {
        "collapsed": true,
        "jupyter": {
          "outputs_hidden": false,
          "source_hidden": false
        },
        "nteract": {
          "transient": {
            "deleting": false
          }
        }
      }
    },
    {
      "cell_type": "code",
      "source": [
        "# this cell is how to register the .pkl model\n",
        "description = \"HyperDrive run heart-failure classification model\"\n",
        "\n",
        "from azureml.core import Model\n",
        "model = Model.register(workspace=ws,\n",
        "    model_name=\"hyperdrive_model\",\n",
        "    model_path='./hyperdrive_model/hyperdrive_model.onnx',\n",
        "    model_framework=Model.Framework.ONNX,\n",
        "    model_framework_version='1.3',\n",
        "    description=description)"
      ],
      "outputs": [
        {
          "output_type": "stream",
          "name": "stdout",
          "text": "Registering model hyperdrive_model\n"
        }
      ],
      "execution_count": 4,
      "metadata": {
        "gather": {
          "logged": 1635337469503
        }
      }
    },
    {
      "cell_type": "code",
      "source": [
        "from azureml.core.model import InferenceConfig\n",
        "from azureml.core.webservice import AciWebservice\n",
        "from azureml.core import Model, Environment\n",
        "\n",
        "service_name = 'heart-failure-hyperdrive-service'\n",
        "\n",
        "env = Environment.from_conda_specification(name=\"hyperdrive_env\", file_path='./hyperdrive_model/hyperdrive_env.yml')\n",
        "inference_config = InferenceConfig(entry_script='hyperdrive_model/score_onnx_model_version2.py',\n",
        "                                   environment=env)\n",
        "aci_config = AciWebservice.deploy_configuration(cpu_cores=1, memory_gb=1,\n",
        "                                                enable_app_insights=True,\n",
        "                                                auth_enabled=True)"
      ],
      "outputs": [],
      "execution_count": 40,
      "metadata": {
        "gather": {
          "logged": 1635339671486
        }
      }
    },
    {
      "cell_type": "code",
      "source": [
        "# deploy to local for debugging\n",
        "from azureml.core.webservice import LocalWebservice\n",
        "deployment_config = LocalWebservice.deploy_configuration(port=6789)\n",
        "test_service = Model.deploy(\n",
        "    ws,\n",
        "    name='test-service',\n",
        "    models=[model],\n",
        "    inference_config=inference_config,\n",
        "    deployment_config=deployment_config,\n",
        "    overwrite=True\n",
        ")\n",
        "test_service.wait_for_deployment(show_output=True)"
      ],
      "outputs": [
        {
          "output_type": "stream",
          "name": "stdout",
          "text": "Downloading model hyperdrive_model:1 to /tmp/azureml_liaa_aoz/hyperdrive_model/1\nGenerating Docker build context.\nPackage creation Succeeded\nLogging into Docker registry dc7c18e998184205acf38658cc51f079.azurecr.io\nLogging into Docker registry dc7c18e998184205acf38658cc51f079.azurecr.io\nBuilding Docker image from Dockerfile...\nStep 1/5 : FROM dc7c18e998184205acf38658cc51f079.azurecr.io/azureml/azureml_43f212a02480d80122155ef1231227f6\n ---> 5a0df70074d4\nStep 2/5 : COPY azureml-app /var/azureml-app\n ---> 73e29150c363\nStep 3/5 : RUN mkdir -p '/var/azureml-app' && echo eyJhY2NvdW50Q29udGV4dCI6eyJzdWJzY3JpcHRpb25JZCI6ImQ3ZjM5MzQ5LWE2NmItNDQ2ZS1hYmE2LTAwNTNjMmNmMWMxMSIsInJlc291cmNlR3JvdXBOYW1lIjoiYW1sLXF1aWNrc3RhcnRzLTE2MjE4NyIsImFjY291bnROYW1lIjoicXVpY2stc3RhcnRzLXdzLTE2MjE4NyIsIndvcmtzcGFjZUlkIjoiZGM3YzE4ZTktOTgxOC00MjA1LWFjZjMtODY1OGNjNTFmMDc5In0sIm1vZGVscyI6e30sIm1vZGVsc0luZm8iOnt9fQ== | base64 --decode > /var/azureml-app/model_config_map.json\n ---> Running in 08f7165465b0\n ---> d28f43e539b6\nStep 4/5 : RUN mv '/var/azureml-app/tmpuhsnrj0a.py' /var/azureml-app/main.py\n ---> Running in 13950ad1118c\n ---> 33193ac9f4be\nStep 5/5 : CMD [\"runsvdir\",\"/var/runit\"]\n ---> Running in 8d381f573eb5\n ---> 3615c87900e6\nSuccessfully built 3615c87900e6\nSuccessfully tagged test-service:latest\nContainer (name:goofy_rubin, id:ff72c04adf57a9c0f86331d88c6ed1a95adbac7f4e8c0614cd5acab15d17802c) cannot be killed.\nContainer has been successfully cleaned up.\nImage sha256:360f23f711a0562794cd7bf37297fa4330bd28483216d9ac0d8e10ffec07b890 successfully removed.\nStarting Docker container...\nDocker container running.\nChecking container health...\nLocal webservice is running at http://localhost:6789\n"
        }
      ],
      "execution_count": 35,
      "metadata": {
        "gather": {
          "logged": 1635339582007
        }
      }
    },
    {
      "cell_type": "markdown",
      "source": [
        "TODO: In the cell below, send a request to the web service you deployed to test it."
      ],
      "metadata": {}
    },
    {
      "cell_type": "code",
      "source": [
        "r = requests.get(test_service.swagger_uri)\r\n",
        "r.text"
      ],
      "outputs": [
        {
          "output_type": "execute_result",
          "execution_count": 42,
          "data": {
            "text/plain": "'{\"swagger\": \"2.0\", \"info\": {\"title\": \"ML service\", \"description\": \"API specification for the Azure Machine Learning service ML service\", \"version\": \"1.0\"}, \"schemes\": [\"https\"], \"consumes\": [\"application/json\"], \"produces\": [\"application/json\"], \"securityDefinitions\": {\"Bearer\": {\"type\": \"apiKey\", \"name\": \"Authorization\", \"in\": \"header\", \"description\": \"For example: Bearer abc123\"}}, \"paths\": {\"/\": {\"get\": {\"operationId\": \"ServiceHealthCheck\", \"description\": \"Simple health check endpoint to ensure the service is up at any given point.\", \"responses\": {\"200\": {\"description\": \"If service is up and running, this response will be returned with the content \\'Healthy\\'\", \"schema\": {\"type\": \"string\"}, \"examples\": {\"application/json\": \"Healthy\"}}, \"default\": {\"description\": \"The service failed to execute due to an error.\", \"schema\": {\"$ref\": \"#/definitions/ErrorResponse\"}}}}}, \"/score\": {\"post\": {\"operationId\": \"RunMLService\", \"description\": \"Run web service\\'s model and get the prediction output\", \"security\": [{\"Bearer\": []}], \"parameters\": [{\"name\": \"serviceInputPayload\", \"in\": \"body\", \"description\": \"The input payload for executing the real-time machine learning service.\", \"schema\": {\"$ref\": \"#/definitions/ServiceInput\"}}], \"responses\": {\"200\": {\"description\": \"The service processed the input correctly and provided a result prediction, if applicable.\", \"schema\": {\"$ref\": \"#/definitions/ServiceOutput\"}}, \"default\": {\"description\": \"The service failed to execute due to an error.\", \"schema\": {\"$ref\": \"#/definitions/ErrorResponse\"}}}}}}, \"definitions\": {\"ServiceInput\": {\"type\": \"object\", \"properties\": {\"Inputs\": {\"type\": \"array\", \"items\": {\"type\": \"array\", \"items\": {\"type\": \"object\", \"required\": [\"Age\", \"Sex\", \"RestingBP\", \"Cholesterol\", \"FastingBS\", \"MaxHR\", \"ExerciseAngina\", \"Oldpeak\", \"ST_Slope\", \"ChestPainType_ASY\", \"ChestPainType_ATA\", \"ChestPainType_NAP\", \"ChestPainType_TA\", \"RestingECG_LVH\", \"RestingECG_Normal\", \"RestingECG_ST\"], \"properties\": {\"Age\": {\"type\": \"integer\", \"format\": \"int64\"}, \"Sex\": {\"type\": \"integer\", \"format\": \"int64\"}, \"RestingBP\": {\"type\": \"integer\", \"format\": \"int64\"}, \"Cholesterol\": {\"type\": \"integer\", \"format\": \"int64\"}, \"FastingBS\": {\"type\": \"integer\", \"format\": \"int64\"}, \"MaxHR\": {\"type\": \"integer\", \"format\": \"int64\"}, \"ExerciseAngina\": {\"type\": \"integer\", \"format\": \"int64\"}, \"Oldpeak\": {\"type\": \"number\", \"format\": \"double\"}, \"ST_Slope\": {\"type\": \"integer\", \"format\": \"int64\"}, \"ChestPainType_ASY\": {\"type\": \"integer\", \"format\": \"int64\"}, \"ChestPainType_ATA\": {\"type\": \"integer\", \"format\": \"int64\"}, \"ChestPainType_NAP\": {\"type\": \"integer\", \"format\": \"int64\"}, \"ChestPainType_TA\": {\"type\": \"integer\", \"format\": \"int64\"}, \"RestingECG_LVH\": {\"type\": \"integer\", \"format\": \"int64\"}, \"RestingECG_Normal\": {\"type\": \"integer\", \"format\": \"int64\"}, \"RestingECG_ST\": {\"type\": \"integer\", \"format\": \"int64\"}}}}}}, \"example\": {\"Inputs\": [[{\"Age\": 0, \"Sex\": 0, \"RestingBP\": 0, \"Cholesterol\": 0, \"FastingBS\": 0, \"MaxHR\": 0, \"ExerciseAngina\": 0, \"Oldpeak\": 0.0, \"ST_Slope\": 0, \"ChestPainType_ASY\": 0, \"ChestPainType_ATA\": 0, \"ChestPainType_NAP\": 0, \"ChestPainType_TA\": 0, \"RestingECG_LVH\": 0, \"RestingECG_Normal\": 0, \"RestingECG_ST\": 0}]]}}, \"ServiceOutput\": {\"type\": \"object\", \"required\": [\"Results\"], \"properties\": {\"Results\": {\"type\": \"array\", \"items\": {\"type\": \"integer\", \"format\": \"int64\"}}}, \"example\": {\"Results\": [0]}}, \"ErrorResponse\": {\"type\": \"object\", \"properties\": {\"status_code\": {\"type\": \"integer\", \"format\": \"int32\"}, \"message\": {\"type\": \"string\"}}}}}'"
          },
          "metadata": {}
        }
      ],
      "execution_count": 42,
      "metadata": {
        "jupyter": {
          "source_hidden": false,
          "outputs_hidden": false
        },
        "nteract": {
          "transient": {
            "deleting": false
          }
        },
        "gather": {
          "logged": 1635339709383
        }
      }
    },
    {
      "cell_type": "code",
      "source": [
        "# get some testdata to send a request\n",
        "data = df.head(1).drop(\"HeartDisease\", axis=1).to_dict(orient=\"records\")\n",
        "body = {\"Inputs\": [data],}\n",
        "print(body)"
      ],
      "outputs": [
        {
          "output_type": "stream",
          "name": "stdout",
          "text": "{'Inputs': [[{'Age': 40, 'Sex': 1, 'RestingBP': 140, 'Cholesterol': 289, 'FastingBS': 0, 'MaxHR': 172, 'ExerciseAngina': 0, 'Oldpeak': 0.0, 'ST_Slope': 1, 'ChestPainType_ASY': 0, 'ChestPainType_ATA': 1, 'ChestPainType_NAP': 0, 'ChestPainType_TA': 0, 'RestingECG_LVH': 0, 'RestingECG_Normal': 1, 'RestingECG_ST': 0}]]}\n"
        }
      ],
      "execution_count": 44,
      "metadata": {
        "gather": {
          "logged": 1635339813313
        }
      }
    },
    {
      "cell_type": "code",
      "source": [
        "import json, requests\n",
        "# test against local deploymenz\n",
        "uri = test_service.scoring_uri\n",
        "requests.get(\"http://localhost:6789\")\n",
        "headers = {\"Content-Type\": \"application/json\"}\n",
        "response = requests.post(uri, data=json.dumps(body), headers=headers)\n",
        "print(response.json())"
      ],
      "outputs": [
        {
          "output_type": "stream",
          "name": "stdout",
          "text": "[0]\n"
        }
      ],
      "execution_count": 45,
      "metadata": {
        "gather": {
          "logged": 1635339823361
        }
      }
    },
    {
      "cell_type": "code",
      "source": [
        "df.head(1)[\"HeartDisease\"]"
      ],
      "outputs": [
        {
          "output_type": "execute_result",
          "execution_count": 47,
          "data": {
            "text/plain": "0    0\nName: HeartDisease, dtype: int64"
          },
          "metadata": {}
        }
      ],
      "execution_count": 47,
      "metadata": {
        "jupyter": {
          "source_hidden": false,
          "outputs_hidden": false
        },
        "nteract": {
          "transient": {
            "deleting": false
          }
        },
        "gather": {
          "logged": 1635339884473
        }
      }
    },
    {
      "cell_type": "code",
      "source": [
        "test_service.update()"
      ],
      "outputs": [
        {
          "output_type": "stream",
          "name": "stdout",
          "text": "Generating Docker build context.\nPackage creation Succeeded\nLogging into Docker registry dc7c18e998184205acf38658cc51f079.azurecr.io\nLogging into Docker registry dc7c18e998184205acf38658cc51f079.azurecr.io\nBuilding Docker image from Dockerfile...\nStep 1/5 : FROM dc7c18e998184205acf38658cc51f079.azurecr.io/azureml/azureml_43f212a02480d80122155ef1231227f6\n ---> 5a0df70074d4\nStep 2/5 : COPY azureml-app /var/azureml-app\n ---> 8b620a26d2b3\nStep 3/5 : RUN mkdir -p '/var/azureml-app' && echo eyJhY2NvdW50Q29udGV4dCI6eyJzdWJzY3JpcHRpb25JZCI6ImQ3ZjM5MzQ5LWE2NmItNDQ2ZS1hYmE2LTAwNTNjMmNmMWMxMSIsInJlc291cmNlR3JvdXBOYW1lIjoiYW1sLXF1aWNrc3RhcnRzLTE2MjE4NyIsImFjY291bnROYW1lIjoicXVpY2stc3RhcnRzLXdzLTE2MjE4NyIsIndvcmtzcGFjZUlkIjoiZGM3YzE4ZTktOTgxOC00MjA1LWFjZjMtODY1OGNjNTFmMDc5In0sIm1vZGVscyI6e30sIm1vZGVsc0luZm8iOnt9fQ== | base64 --decode > /var/azureml-app/model_config_map.json\n ---> Running in e3394cae7f7b\n ---> dc8705077f36\nStep 4/5 : RUN mv '/var/azureml-app/tmp9_l3m9h8.py' /var/azureml-app/main.py\n ---> Running in 4adbb5573302\n ---> 0e8daed530b0\nStep 5/5 : CMD [\"runsvdir\",\"/var/runit\"]\n ---> Running in 0a9d811c22ef\n ---> 349a50b58851\nSuccessfully built 349a50b58851\nSuccessfully tagged test-service:latest\nContainer has been successfully cleaned up.\nImage sha256:3615c87900e61fdf299e9e9aa9ff84200f70cce9c87a8c9f275c9624c3b3783b successfully removed.\nStarting Docker container...\nDocker container running.\n"
        }
      ],
      "execution_count": 41,
      "metadata": {
        "jupyter": {
          "source_hidden": false,
          "outputs_hidden": false
        },
        "nteract": {
          "transient": {
            "deleting": false
          }
        },
        "gather": {
          "logged": 1635339705738
        }
      }
    },
    {
      "cell_type": "code",
      "source": [
        "# local deployment is working\n",
        "test_service.delete()"
      ],
      "outputs": [
        {
          "output_type": "stream",
          "name": "stdout",
          "text": "Container (name:strange_booth, id:bf601216c7eeaca1d1eaa96aa16ddb1176a9ffd65e3215004ab78f49981aaf1f) cannot be killed.\nContainer has been successfully cleaned up.\n"
        }
      ],
      "execution_count": 33,
      "metadata": {
        "gather": {
          "logged": 1635339478820
        }
      }
    },
    {
      "cell_type": "code",
      "source": [
        "service = Model.deploy(workspace=ws,\n",
        "                       name=service_name,\n",
        "                       models=[model],\n",
        "                       inference_config=inference_config,\n",
        "                       deployment_config=aci_config,\n",
        "                       overwrite=True)\n",
        "service.wait_for_deployment(show_output=True)"
      ],
      "outputs": [
        {
          "output_type": "stream",
          "name": "stdout",
          "text": "Tips: You can try get_logs(): https://aka.ms/debugimage#dockerlog or local deployment: https://aka.ms/debugimage#debug-locally to debug if deployment takes longer than 10 minutes.\nRunning\n2021-10-27 13:07:36+00:00 Creating Container Registry if not exists.\n2021-10-27 13:07:36+00:00 Registering the environment.\n2021-10-27 13:07:39+00:00 Use the existing image.\n2021-10-27 13:07:39+00:00 Generating deployment configuration.\n2021-10-27 13:07:41+00:00 Submitting deployment to compute.\n2021-10-27 13:07:44+00:00 Checking the status of deployment heart-failure-hyperdrive-service..\n2021-10-27 13:10:24+00:00 Checking the status of inference endpoint heart-failure-hyperdrive-service.\nSucceeded\nACI service creation operation finished, operation \"Succeeded\"\n"
        }
      ],
      "execution_count": 48,
      "metadata": {
        "gather": {
          "logged": 1635340260523
        }
      }
    },
    {
      "cell_type": "code",
      "source": [
        "# send request to deployed web service\n",
        "uri = service.scoring_uri\n",
        "print(uri)\n",
        "print(service.swagger_uri)\n",
        "key, _ = service.get_keys()"
      ],
      "outputs": [
        {
          "output_type": "stream",
          "name": "stdout",
          "text": "http://5515eba9-2ad1-4140-a95c-9655f98c2592.southcentralus.azurecontainer.io/score\nhttp://5515eba9-2ad1-4140-a95c-9655f98c2592.southcentralus.azurecontainer.io/swagger.json\n"
        }
      ],
      "execution_count": 49,
      "metadata": {
        "gather": {
          "logged": 1635340291807
        }
      }
    },
    {
      "cell_type": "code",
      "source": [
        "headers = {\"Content-Type\": \"application/json\"}\n",
        "headers[\"Authorization\"] = f\"Bearer {key}\"\n",
        "response = requests.post(uri, data=json.dumps(body), headers=headers)\n",
        "print(response.json())"
      ],
      "outputs": [
        {
          "output_type": "stream",
          "name": "stdout",
          "text": "[0]\n"
        }
      ],
      "execution_count": 50,
      "metadata": {
        "gather": {
          "logged": 1635340295512
        }
      }
    },
    {
      "cell_type": "markdown",
      "source": [
        "TODO: In the cell below, print the logs of the web service and delete the service"
      ],
      "metadata": {}
    },
    {
      "cell_type": "code",
      "source": [
        "print(service.get_logs())\n",
        "service.delete()"
      ],
      "outputs": [],
      "execution_count": null,
      "metadata": {}
    },
    {
      "cell_type": "markdown",
      "source": [
        "**Submission Checklist**\n",
        "- I have registered the model.\n",
        "- I have deployed the model with the best accuracy as a webservice.\n",
        "- I have tested the webservice by sending a request to the model endpoint.\n",
        "- I have deleted the webservice and shutdown all the computes that I have used.\n",
        "- I have taken a screenshot showing the model endpoint as active.\n",
        "- The project includes a file containing the environment details.\n",
        "\n"
      ],
      "metadata": {}
    },
    {
      "cell_type": "markdown",
      "source": [],
      "metadata": {}
    }
  ],
  "metadata": {
    "kernel_info": {
      "name": "python3"
    },
    "kernelspec": {
      "name": "python3",
      "language": "python",
      "display_name": "Python 3"
    },
    "language_info": {
      "name": "python",
      "version": "3.6.9",
      "mimetype": "text/x-python",
      "codemirror_mode": {
        "name": "ipython",
        "version": 3
      },
      "pygments_lexer": "ipython3",
      "nbconvert_exporter": "python",
      "file_extension": ".py"
    },
    "nteract": {
      "version": "nteract-front-end@1.0.0"
    },
    "microsoft": {
      "host": {
        "AzureML": {
          "notebookHasBeenCompleted": true
        }
      }
    }
  },
  "nbformat": 4,
  "nbformat_minor": 2
}