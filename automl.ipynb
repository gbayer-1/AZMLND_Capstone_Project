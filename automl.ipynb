{
  "cells": [
    {
      "cell_type": "markdown",
      "source": [
        "# Automated ML\n",
        "\n",
        "TODO: Import Dependencies. In the cell below, import all the dependencies that you will need to complete the project."
      ],
      "metadata": {}
    },
    {
      "cell_type": "code",
      "source": [
        "from azureml.core import Workspace, Experiment\n",
        "from azureml.core.compute import ComputeTarget, AmlCompute\n",
        "from azureml.exceptions import ComputeTargetException\n",
        "from azureml.data.dataset_factory import TabularDatasetFactory\n",
        "from azureml.widgets import RunDetails"
      ],
      "outputs": [],
      "execution_count": 6,
      "metadata": {
        "gather": {
          "logged": 1634648525958
        },
        "jupyter": {
          "outputs_hidden": false,
          "source_hidden": false
        },
        "nteract": {
          "transient": {
            "deleting": false
          }
        }
      }
    },
    {
      "cell_type": "markdown",
      "source": [
        "## Dataset\n",
        "\n",
        "### Overview\n",
        "TODO: In this markdown cell, give an overview of the dataset you are using. Also mention the task you will be performing.\n",
        "The dataset I'm using for this project is the Heart Failure Prediction Dataset from kaggle.\n",
        "\n",
        "fedesoriano. (September 2021). Heart Failure Prediction Dataset. Retrieved [2021-10-18] from https://www.kaggle.com/fedesoriano/heart-failure-prediction.\n",
        "\n",
        "The task with this dataset is to predict whether a person will develop a heart disease with a set of 11 diagnostic features. This dataset is a combination of five independent heart disease datasets containing 918 observations of patients. The target column \"Heart Disease\" is nearly balanced in this dataset with 510 patients with and 408 patients without cardiovascular diseases.\n",
        "\n",
        "The features in this dataset are:\n",
        "\n",
        "General information\n",
        "- Age of the patient in years; with the youngest patient being 28 and the oldest 77 years old\n",
        "- Sex of the patient; the majority of the patients (79%) being male\n",
        "\n",
        "blood tests\n",
        "- Cholesterol in serum [mm/dl]; an indicator for ateriosclerosis\n",
        "- fasting blood sugar level; a boolean value if the blood sugar is elevated (>120mg/dl) or not, which is an indicator for diabetes\n",
        "\n",
        "medical history\n",
        "- type of chest pain the patient is experiencing in four categories (TA: typical angina, ATA: atypical angina, NAP: non-anginal pain, ASY: asymptomatic)\n",
        "\n",
        "ECG and cardiac stress testing\n",
        "- resting blood pressure [mm Hg]\n",
        "- resting ECG results in three categories (Normal, ST: ST-T wave abnormality, LVH : left ventricular hypertrophy)\n",
        "- oldpeak: the depression between S and T peak\n",
        "- maximum heartrate under cardiac stress\n",
        "- exercise-induced angina\n",
        "- ST-slope of te peak exercise in three categories (Up, flat and down)\n",
        "\n",
        "TODO: Get data. In the cell below, write code to access the data you will be using in this project. Remember that the dataset needs to be external."
      ],
      "metadata": {}
    },
    {
      "cell_type": "markdown",
      "source": [
        "### setup workspace and experiment\n",
        "\n",
        "Use Workspace.from_config() to get the workspace configuration in the VM.\n",
        "Set up an experiment with the name \"heart-failure-experiment\"."
      ],
      "metadata": {}
    },
    {
      "cell_type": "code",
      "source": [
        "ws = Workspace.from_config()\n",
        "\n",
        "# print some information about the workspace\n",
        "print('Workspace name: ' + ws.name, \n",
        "      'Azure region: ' + ws.location, \n",
        "      'Subscription id: ' + ws.subscription_id, \n",
        "      'Resource group: ' + ws.resource_group, sep = '\\n')\n",
        "\n",
        "# choose a name for experiment\n",
        "experiment_name = 'heart-failure-experiment'\n",
        "\n",
        "experiment=Experiment(ws, experiment_name)"
      ],
      "outputs": [
        {
          "output_type": "stream",
          "name": "stdout",
          "text": "Workspace name: test-workspace\nAzure region: eastus2\nSubscription id: 610d6e37-4747-4a20-80eb-3aad70a55f43\nResource group: aml-quickstarts-161432\n"
        }
      ],
      "execution_count": 8,
      "metadata": {
        "gather": {
          "logged": 1634648535805
        },
        "jupyter": {
          "outputs_hidden": false,
          "source_hidden": false
        },
        "nteract": {
          "transient": {
            "deleting": false
          }
        }
      }
    },
    {
      "cell_type": "markdown",
      "source": [
        "### create a cluster\n",
        "\n",
        "check, whether a compute cluster already exists. If not, create one."
      ],
      "metadata": {}
    },
    {
      "cell_type": "code",
      "source": [
        "cluster_name = \"expcluster\"\n",
        "\n",
        "# Use existing cluster, if it exists\n",
        "try:\n",
        "    compute_target = ComputeTarget(workspace=ws, name = cluster_name)\n",
        "    print('Found existing cluster, use it!')\n",
        "except ComputeTargetException:\n",
        "    compute_config = AmlCompute.provisioning_configuration(vm_size='Standard_DS12_v2',\n",
        "                                                          max_nodes=6, min_nodes=1)\n",
        "    compute_target = ComputeTarget.create(workspace=ws, name=cluster_name, provisioning_configuration=compute_config)\n",
        "compute_target.wait_for_completion(show_output=True)"
      ],
      "outputs": [
        {
          "output_type": "stream",
          "name": "stdout",
          "text": "Found existing cluster, use it!\nSucceeded\nAmlCompute wait for completion finished\n\nMinimum number of nodes requested have been provisioned\n"
        }
      ],
      "execution_count": 9,
      "metadata": {
        "gather": {
          "logged": 1634648537396
        }
      }
    },
    {
      "cell_type": "markdown",
      "source": [
        "### create Dataset\n",
        "\n",
        "Since I need the dataset for the AutoMl run as well as for the HyperDriveRun I configured the upload of local data and registering of the dataset in the function read_data() from the train.py script.\n",
        "\n",
        "The preprocessing of the data in regard of cleaning and encoding categorical data is defined in the function prepare_data() in the train.py script."
      ],
      "metadata": {}
    },
    {
      "cell_type": "code",
      "source": [
        "from train import read_data\r\n",
        "dataset=read_data()"
      ],
      "outputs": [
        {
          "output_type": "stream",
          "name": "stdout",
          "text": "Uploading an estimated of 4 files\nUploading ./data/.amlignore\nUploaded ./data/.amlignore, 1 files out of an estimated total of 4\nUploading ./data/.amlignore.amltmp\nUploaded ./data/.amlignore.amltmp, 2 files out of an estimated total of 4\nUploading ./data/heart.csv\nUploaded ./data/heart.csv, 3 files out of an estimated total of 4\nUploading ./data/heart_failure_clinical_records_dataset.csv\nUploaded ./data/heart_failure_clinical_records_dataset.csv, 4 files out of an estimated total of 4\nUploaded 4 files\nValidating arguments.\nArguments validated.\nSuccessfully obtained datastore reference and path.\nUploading file to managed-dataset/9ff33213-41e6-427b-b9a7-7ef59f7924a0/\nSuccessfully uploaded file to datastore.\nCreating and registering a new dataset.\nSuccessfully created and registered a new dataset.\n"
        },
        {
          "output_type": "stream",
          "name": "stderr",
          "text": "Method register_pandas_dataframe: This is an experimental method, and may change at any time. Please see https://aka.ms/azuremlexperimental for more information.\n"
        }
      ],
      "execution_count": 1,
      "metadata": {
        "jupyter": {
          "source_hidden": false,
          "outputs_hidden": false
        },
        "nteract": {
          "transient": {
            "deleting": false
          }
        },
        "gather": {
          "logged": 1634649813488
        }
      }
    },
    {
      "cell_type": "code",
      "source": [
        "df = dataset.to_pandas_dataframe()\r\n",
        "df.describe()"
      ],
      "outputs": [
        {
          "output_type": "execute_result",
          "execution_count": 2,
          "data": {
            "text/plain": "              Age         Sex   RestingBP  Cholesterol   FastingBS  \\\ncount  918.000000  918.000000  918.000000   918.000000  918.000000   \nmean    53.510893    0.789760  132.396514   198.799564    0.233115   \nstd      9.432617    0.407701   18.514154   109.384145    0.423046   \nmin     28.000000    0.000000    0.000000     0.000000    0.000000   \n25%     47.000000    1.000000  120.000000   173.250000    0.000000   \n50%     54.000000    1.000000  130.000000   223.000000    0.000000   \n75%     60.000000    1.000000  140.000000   267.000000    0.000000   \nmax     77.000000    1.000000  200.000000   603.000000    1.000000   \n\n            MaxHR  ExerciseAngina     Oldpeak    ST_Slope  HeartDisease  \\\ncount  918.000000           918.0  918.000000  918.000000    918.000000   \nmean   136.809368             0.0    0.887364    0.361656      0.553377   \nstd     25.460334             0.0    1.066570    0.607056      0.497414   \nmin     60.000000             0.0   -2.600000   -1.000000      0.000000   \n25%    120.000000             0.0    0.000000    0.000000      0.000000   \n50%    138.000000             0.0    0.600000    0.000000      1.000000   \n75%    156.000000             0.0    1.500000    1.000000      1.000000   \nmax    202.000000             0.0    6.200000    1.000000      1.000000   \n\n       ChestPainType_ASY  ChestPainType_ATA  ChestPainType_NAP  \\\ncount         918.000000         918.000000         918.000000   \nmean            0.540305           0.188453           0.221133   \nstd             0.498645           0.391287           0.415236   \nmin             0.000000           0.000000           0.000000   \n25%             0.000000           0.000000           0.000000   \n50%             1.000000           0.000000           0.000000   \n75%             1.000000           0.000000           0.000000   \nmax             1.000000           1.000000           1.000000   \n\n       ChestPainType_TA  RestingECG_LVH  RestingECG_Normal  RestingECG_ST  \ncount        918.000000      918.000000         918.000000     918.000000  \nmean           0.050109        0.204793           0.601307       0.193900  \nstd            0.218289        0.403770           0.489896       0.395567  \nmin            0.000000        0.000000           0.000000       0.000000  \n25%            0.000000        0.000000           0.000000       0.000000  \n50%            0.000000        0.000000           1.000000       0.000000  \n75%            0.000000        0.000000           1.000000       0.000000  \nmax            1.000000        1.000000           1.000000       1.000000  ",
            "text/html": "<div>\n<style scoped>\n    .dataframe tbody tr th:only-of-type {\n        vertical-align: middle;\n    }\n\n    .dataframe tbody tr th {\n        vertical-align: top;\n    }\n\n    .dataframe thead th {\n        text-align: right;\n    }\n</style>\n<table border=\"1\" class=\"dataframe\">\n  <thead>\n    <tr style=\"text-align: right;\">\n      <th></th>\n      <th>Age</th>\n      <th>Sex</th>\n      <th>RestingBP</th>\n      <th>Cholesterol</th>\n      <th>FastingBS</th>\n      <th>MaxHR</th>\n      <th>ExerciseAngina</th>\n      <th>Oldpeak</th>\n      <th>ST_Slope</th>\n      <th>HeartDisease</th>\n      <th>ChestPainType_ASY</th>\n      <th>ChestPainType_ATA</th>\n      <th>ChestPainType_NAP</th>\n      <th>ChestPainType_TA</th>\n      <th>RestingECG_LVH</th>\n      <th>RestingECG_Normal</th>\n      <th>RestingECG_ST</th>\n    </tr>\n  </thead>\n  <tbody>\n    <tr>\n      <th>count</th>\n      <td>918.000000</td>\n      <td>918.000000</td>\n      <td>918.000000</td>\n      <td>918.000000</td>\n      <td>918.000000</td>\n      <td>918.000000</td>\n      <td>918.0</td>\n      <td>918.000000</td>\n      <td>918.000000</td>\n      <td>918.000000</td>\n      <td>918.000000</td>\n      <td>918.000000</td>\n      <td>918.000000</td>\n      <td>918.000000</td>\n      <td>918.000000</td>\n      <td>918.000000</td>\n      <td>918.000000</td>\n    </tr>\n    <tr>\n      <th>mean</th>\n      <td>53.510893</td>\n      <td>0.789760</td>\n      <td>132.396514</td>\n      <td>198.799564</td>\n      <td>0.233115</td>\n      <td>136.809368</td>\n      <td>0.0</td>\n      <td>0.887364</td>\n      <td>0.361656</td>\n      <td>0.553377</td>\n      <td>0.540305</td>\n      <td>0.188453</td>\n      <td>0.221133</td>\n      <td>0.050109</td>\n      <td>0.204793</td>\n      <td>0.601307</td>\n      <td>0.193900</td>\n    </tr>\n    <tr>\n      <th>std</th>\n      <td>9.432617</td>\n      <td>0.407701</td>\n      <td>18.514154</td>\n      <td>109.384145</td>\n      <td>0.423046</td>\n      <td>25.460334</td>\n      <td>0.0</td>\n      <td>1.066570</td>\n      <td>0.607056</td>\n      <td>0.497414</td>\n      <td>0.498645</td>\n      <td>0.391287</td>\n      <td>0.415236</td>\n      <td>0.218289</td>\n      <td>0.403770</td>\n      <td>0.489896</td>\n      <td>0.395567</td>\n    </tr>\n    <tr>\n      <th>min</th>\n      <td>28.000000</td>\n      <td>0.000000</td>\n      <td>0.000000</td>\n      <td>0.000000</td>\n      <td>0.000000</td>\n      <td>60.000000</td>\n      <td>0.0</td>\n      <td>-2.600000</td>\n      <td>-1.000000</td>\n      <td>0.000000</td>\n      <td>0.000000</td>\n      <td>0.000000</td>\n      <td>0.000000</td>\n      <td>0.000000</td>\n      <td>0.000000</td>\n      <td>0.000000</td>\n      <td>0.000000</td>\n    </tr>\n    <tr>\n      <th>25%</th>\n      <td>47.000000</td>\n      <td>1.000000</td>\n      <td>120.000000</td>\n      <td>173.250000</td>\n      <td>0.000000</td>\n      <td>120.000000</td>\n      <td>0.0</td>\n      <td>0.000000</td>\n      <td>0.000000</td>\n      <td>0.000000</td>\n      <td>0.000000</td>\n      <td>0.000000</td>\n      <td>0.000000</td>\n      <td>0.000000</td>\n      <td>0.000000</td>\n      <td>0.000000</td>\n      <td>0.000000</td>\n    </tr>\n    <tr>\n      <th>50%</th>\n      <td>54.000000</td>\n      <td>1.000000</td>\n      <td>130.000000</td>\n      <td>223.000000</td>\n      <td>0.000000</td>\n      <td>138.000000</td>\n      <td>0.0</td>\n      <td>0.600000</td>\n      <td>0.000000</td>\n      <td>1.000000</td>\n      <td>1.000000</td>\n      <td>0.000000</td>\n      <td>0.000000</td>\n      <td>0.000000</td>\n      <td>0.000000</td>\n      <td>1.000000</td>\n      <td>0.000000</td>\n    </tr>\n    <tr>\n      <th>75%</th>\n      <td>60.000000</td>\n      <td>1.000000</td>\n      <td>140.000000</td>\n      <td>267.000000</td>\n      <td>0.000000</td>\n      <td>156.000000</td>\n      <td>0.0</td>\n      <td>1.500000</td>\n      <td>1.000000</td>\n      <td>1.000000</td>\n      <td>1.000000</td>\n      <td>0.000000</td>\n      <td>0.000000</td>\n      <td>0.000000</td>\n      <td>0.000000</td>\n      <td>1.000000</td>\n      <td>0.000000</td>\n    </tr>\n    <tr>\n      <th>max</th>\n      <td>77.000000</td>\n      <td>1.000000</td>\n      <td>200.000000</td>\n      <td>603.000000</td>\n      <td>1.000000</td>\n      <td>202.000000</td>\n      <td>0.0</td>\n      <td>6.200000</td>\n      <td>1.000000</td>\n      <td>1.000000</td>\n      <td>1.000000</td>\n      <td>1.000000</td>\n      <td>1.000000</td>\n      <td>1.000000</td>\n      <td>1.000000</td>\n      <td>1.000000</td>\n      <td>1.000000</td>\n    </tr>\n  </tbody>\n</table>\n</div>"
          },
          "metadata": {}
        }
      ],
      "execution_count": 2,
      "metadata": {
        "jupyter": {
          "source_hidden": false,
          "outputs_hidden": false
        },
        "nteract": {
          "transient": {
            "deleting": false
          }
        },
        "gather": {
          "logged": 1634649825230
        }
      }
    },
    {
      "cell_type": "markdown",
      "source": [
        "## AutoML Configuration\n",
        "\n",
        "TODO: Explain why you chose the automl settings and cofiguration you used below.\n",
        "\n",
        "For the automl_settings I used a timeout of 20minutes, to ensure completion of the experiment run before the VM times out.\n",
        "The maximum concurrent_iterations are 5, meaning that five iterations can run in parallel. This is less than the maximum number of nodes of my compute_cluster. The primary metric to evaluate the best model is precision, which I chose, since the training_data is imbalanced. Instead of splitting the dataset into training and test data, I use a 5-fold crossvalidation. The early stooping logic is enabled, which stops an iteration if there is no improvement in the primary metric after 31 iterations.\n",
        "\n",
        "I configured the AutoMl run, that it runs on the above specified compute cluster (\"compute_target\").\n",
        "The AutoML experiment will run a classification task on the heart-failure-dataset with the target column \"HeartDisease\".\n",
        " I turned the featurization off, since the data is already preprocessed. "
      ],
      "metadata": {}
    },
    {
      "cell_type": "code",
      "source": [
        "from azureml.train.automl import AutoMLConfig\n",
        "# TODO: Put your automl settings here\n",
        "automl_settings = {\n",
        "    \"experiment_timeout_minutes\": 20,\n",
        "    \"max_concurrent_iterations\": 5,\n",
        "    \"primary_metric\": 'accuracy',\n",
        "    \"n_cross_validations\": 5,\n",
        "    \"enable_early_stopping\": True,\n",
        "}\n",
        "\n",
        "# TODO: Put your automl config here\n",
        "automl_config = AutoMLConfig(compute_target=compute_target,\n",
        "                             task=\"classification\",\n",
        "                             training_data=dataset,\n",
        "                             label_column_name=\"HeartDisease\",\n",
        "                             path = './automl_run',\n",
        "                             featurization = \"off\",\n",
        "                             **automl_settings\n",
        "                            )"
      ],
      "outputs": [],
      "execution_count": 16,
      "metadata": {
        "gather": {
          "logged": 1634649121554
        },
        "jupyter": {
          "outputs_hidden": false,
          "source_hidden": false
        },
        "nteract": {
          "transient": {
            "deleting": false
          }
        }
      }
    },
    {
      "cell_type": "code",
      "source": [
        "# TODO: Submit your experiment\n",
        "remote_run = experiment.submit(automl_config)"
      ],
      "outputs": [
        {
          "output_type": "stream",
          "name": "stdout",
          "text": "Submitting remote run.\n"
        },
        {
          "output_type": "display_data",
          "data": {
            "text/plain": "<IPython.core.display.HTML object>",
            "text/html": "<table style=\"width:100%\"><tr><th>Experiment</th><th>Id</th><th>Type</th><th>Status</th><th>Details Page</th><th>Docs Page</th></tr><tr><td>heart-failure-experiment</td><td>AutoML_ac4bfb14-36a7-40e2-8dac-11314a8a2737</td><td>automl</td><td>NotStarted</td><td><a href=\"https://ml.azure.com/runs/AutoML_ac4bfb14-36a7-40e2-8dac-11314a8a2737?wsid=/subscriptions/610d6e37-4747-4a20-80eb-3aad70a55f43/resourcegroups/aml-quickstarts-161432/workspaces/test-workspace&amp;tid=660b3398-b80e-49d2-bc5b-ac1dc93b5254\" target=\"_blank\" rel=\"noopener\">Link to Azure Machine Learning studio</a></td><td><a href=\"https://docs.microsoft.com/en-us/python/api/overview/azure/ml/intro?view=azure-ml-py\" target=\"_blank\" rel=\"noopener\">Link to Documentation</a></td></tr></table>"
          },
          "metadata": {}
        }
      ],
      "execution_count": 17,
      "metadata": {
        "gather": {
          "logged": 1634649130517
        },
        "jupyter": {
          "outputs_hidden": false,
          "source_hidden": false
        },
        "nteract": {
          "transient": {
            "deleting": false
          }
        }
      }
    },
    {
      "cell_type": "markdown",
      "source": [
        "## Run Details\n",
        "\n",
        "OPTIONAL: Write about the different models trained and their performance. Why do you think some models did better than others?\n",
        "\n",
        "TODO: In the cell below, use the `RunDetails` widget to show the different experiments."
      ],
      "metadata": {}
    },
    {
      "cell_type": "code",
      "source": [
        "RunDetails(remote_run).show()"
      ],
      "outputs": [
        {
          "output_type": "display_data",
          "data": {
            "text/plain": "_AutoMLWidget(widget_settings={'childWidgetDisplay': 'popup', 'send_telemetry': False, 'log_level': 'INFO', 's…",
            "application/vnd.jupyter.widget-view+json": {
              "version_major": 2,
              "version_minor": 0,
              "model_id": "31c77392d1fa4a26ba4fef11318ffb6c"
            }
          },
          "metadata": {}
        },
        {
          "output_type": "display_data",
          "data": {
            "application/aml.mini.widget.v1": "{\"status\": \"Running\", \"workbench_run_details_uri\": \"https://ml.azure.com/runs/AutoML_ac4bfb14-36a7-40e2-8dac-11314a8a2737?wsid=/subscriptions/610d6e37-4747-4a20-80eb-3aad70a55f43/resourcegroups/aml-quickstarts-161432/workspaces/test-workspace&tid=660b3398-b80e-49d2-bc5b-ac1dc93b5254\", \"run_id\": \"AutoML_ac4bfb14-36a7-40e2-8dac-11314a8a2737\", \"run_properties\": {\"run_id\": \"AutoML_ac4bfb14-36a7-40e2-8dac-11314a8a2737\", \"created_utc\": \"2021-10-19T13:12:09.165581Z\", \"properties\": {\"num_iterations\": \"1000\", \"training_type\": \"TrainFull\", \"acquisition_function\": \"EI\", \"primary_metric\": \"accuracy\", \"train_split\": \"0\", \"acquisition_parameter\": \"0\", \"num_cross_validation\": \"5\", \"target\": \"expcluster\", \"AMLSettingsJsonString\": \"{\\\"path\\\":null,\\\"name\\\":\\\"heart-failure-experiment\\\",\\\"subscription_id\\\":\\\"610d6e37-4747-4a20-80eb-3aad70a55f43\\\",\\\"resource_group\\\":\\\"aml-quickstarts-161432\\\",\\\"workspace_name\\\":\\\"test-workspace\\\",\\\"region\\\":\\\"eastus2\\\",\\\"compute_target\\\":\\\"expcluster\\\",\\\"spark_service\\\":null,\\\"azure_service\\\":\\\"remote\\\",\\\"many_models\\\":false,\\\"pipeline_fetch_max_batch_size\\\":1,\\\"enable_batch_run\\\":false,\\\"enable_run_restructure\\\":false,\\\"start_auxiliary_runs_before_parent_complete\\\":false,\\\"enable_code_generation\\\":false,\\\"iterations\\\":1000,\\\"primary_metric\\\":\\\"accuracy\\\",\\\"task_type\\\":\\\"classification\\\",\\\"data_script\\\":null,\\\"test_size\\\":0.0,\\\"test_include_predictions_only\\\":false,\\\"validation_size\\\":0.0,\\\"n_cross_validations\\\":5,\\\"y_min\\\":null,\\\"y_max\\\":null,\\\"num_classes\\\":null,\\\"featurization\\\":\\\"off\\\",\\\"_ignore_package_version_incompatibilities\\\":false,\\\"is_timeseries\\\":false,\\\"max_cores_per_iteration\\\":1,\\\"max_concurrent_iterations\\\":5,\\\"iteration_timeout_minutes\\\":null,\\\"mem_in_mb\\\":null,\\\"enforce_time_on_windows\\\":false,\\\"experiment_timeout_minutes\\\":20,\\\"experiment_exit_score\\\":null,\\\"whitelist_models\\\":null,\\\"blacklist_algos\\\":[\\\"TensorFlowLinearClassifier\\\",\\\"TensorFlowDNN\\\"],\\\"supported_models\\\":[\\\"AveragedPerceptronClassifier\\\",\\\"TensorFlowDNN\\\",\\\"BernoulliNaiveBayes\\\",\\\"MultinomialNaiveBayes\\\",\\\"LogisticRegression\\\",\\\"DecisionTree\\\",\\\"XGBoostClassifier\\\",\\\"GradientBoosting\\\",\\\"RandomForest\\\",\\\"SVM\\\",\\\"LinearSVM\\\",\\\"ExtremeRandomTrees\\\",\\\"SGD\\\",\\\"TensorFlowLinearClassifier\\\",\\\"KNN\\\",\\\"LightGBM\\\"],\\\"private_models\\\":[],\\\"auto_blacklist\\\":true,\\\"blacklist_samples_reached\\\":false,\\\"exclude_nan_labels\\\":true,\\\"verbosity\\\":20,\\\"_debug_log\\\":\\\"azureml_automl.log\\\",\\\"show_warnings\\\":false,\\\"model_explainability\\\":true,\\\"service_url\\\":null,\\\"sdk_url\\\":null,\\\"sdk_packages\\\":null,\\\"enable_onnx_compatible_models\\\":false,\\\"enable_split_onnx_featurizer_estimator_models\\\":false,\\\"vm_type\\\":\\\"STANDARD_DS12_V2\\\",\\\"telemetry_verbosity\\\":20,\\\"send_telemetry\\\":true,\\\"enable_dnn\\\":false,\\\"scenario\\\":\\\"SDK-1.13.0\\\",\\\"environment_label\\\":null,\\\"save_mlflow\\\":false,\\\"force_text_dnn\\\":false,\\\"enable_feature_sweeping\\\":true,\\\"enable_early_stopping\\\":true,\\\"early_stopping_n_iters\\\":10,\\\"metrics\\\":null,\\\"enable_metric_confidence\\\":false,\\\"enable_ensembling\\\":true,\\\"enable_stack_ensembling\\\":true,\\\"ensemble_iterations\\\":15,\\\"enable_tf\\\":false,\\\"enable_subsampling\\\":null,\\\"subsample_seed\\\":null,\\\"enable_nimbusml\\\":false,\\\"enable_streaming\\\":false,\\\"force_streaming\\\":false,\\\"track_child_runs\\\":true,\\\"allowed_private_models\\\":[],\\\"label_column_name\\\":\\\"HeartDisease\\\",\\\"weight_column_name\\\":null,\\\"cv_split_column_names\\\":null,\\\"positive_label\\\":null,\\\"enable_local_managed\\\":false,\\\"_local_managed_run_id\\\":null,\\\"cost_mode\\\":1,\\\"lag_length\\\":0,\\\"metric_operation\\\":\\\"maximize\\\",\\\"preprocess\\\":false}\", \"DataPrepJsonString\": \"{\\\\\\\"training_data\\\\\\\": {\\\\\\\"datasetId\\\\\\\": \\\\\\\"949ceca9-07e6-45a0-b30b-76d575f09a35\\\\\\\"}, \\\\\\\"datasets\\\\\\\": 0}\", \"EnableSubsampling\": null, \"runTemplate\": \"AutoML\", \"azureml.runsource\": \"automl\", \"display_task_type\": \"classification\", \"dependencies_versions\": \"{\\\"azureml-widgets\\\": \\\"1.34.0\\\", \\\"azureml-train\\\": \\\"1.34.0\\\", \\\"azureml-train-restclients-hyperdrive\\\": \\\"1.34.0\\\", \\\"azureml-train-core\\\": \\\"1.34.0\\\", \\\"azureml-train-automl\\\": \\\"1.34.0\\\", \\\"azureml-train-automl-runtime\\\": \\\"1.34.0.post1\\\", \\\"azureml-train-automl-client\\\": \\\"1.34.0\\\", \\\"azureml-tensorboard\\\": \\\"1.34.0\\\", \\\"azureml-telemetry\\\": \\\"1.34.0\\\", \\\"azureml-sdk\\\": \\\"1.34.0\\\", \\\"azureml-samples\\\": \\\"0+unknown\\\", \\\"azureml-responsibleai\\\": \\\"1.34.0\\\", \\\"azureml-pipeline\\\": \\\"1.34.0\\\", \\\"azureml-pipeline-steps\\\": \\\"1.34.0\\\", \\\"azureml-pipeline-core\\\": \\\"1.34.0\\\", \\\"azureml-opendatasets\\\": \\\"1.34.0\\\", \\\"azureml-mlflow\\\": \\\"1.34.0\\\", \\\"azureml-interpret\\\": \\\"1.34.0\\\", \\\"azureml-inference-server-http\\\": \\\"0.3.1\\\", \\\"azureml-explain-model\\\": \\\"1.34.0\\\", \\\"azureml-defaults\\\": \\\"1.34.0\\\", \\\"azureml-dataset-runtime\\\": \\\"1.34.0\\\", \\\"azureml-dataprep\\\": \\\"2.22.2\\\", \\\"azureml-dataprep-rslex\\\": \\\"1.20.2\\\", \\\"azureml-dataprep-native\\\": \\\"38.0.0\\\", \\\"azureml-datadrift\\\": \\\"1.34.0\\\", \\\"azureml-core\\\": \\\"1.34.0\\\", \\\"azureml-contrib-services\\\": \\\"1.34.0\\\", \\\"azureml-contrib-server\\\": \\\"1.34.0\\\", \\\"azureml-contrib-reinforcementlearning\\\": \\\"1.34.0\\\", \\\"azureml-contrib-pipeline-steps\\\": \\\"1.34.0\\\", \\\"azureml-contrib-notebook\\\": \\\"1.34.0\\\", \\\"azureml-contrib-fairness\\\": \\\"1.34.0\\\", \\\"azureml-contrib-dataset\\\": \\\"1.34.0\\\", \\\"azureml-contrib-automl-pipeline-steps\\\": \\\"1.34.0\\\", \\\"azureml-cli-common\\\": \\\"1.34.0\\\", \\\"azureml-automl-runtime\\\": \\\"1.34.0.post1\\\", \\\"azureml-automl-dnn-nlp\\\": \\\"1.34.0\\\", \\\"azureml-automl-core\\\": \\\"1.34.0.post1\\\", \\\"azureml-accel-models\\\": \\\"1.34.0\\\"}\", \"_aml_system_scenario_identification\": \"Remote.Parent\", \"ClientType\": \"SDK\", \"environment_cpu_name\": \"AzureML-AutoML\", \"environment_cpu_label\": \"prod\", \"environment_gpu_name\": \"AzureML-AutoML-GPU\", \"environment_gpu_label\": \"prod\", \"root_attribution\": \"automl\", \"attribution\": \"AutoML\", \"Orchestrator\": \"AutoML\", \"CancelUri\": \"https://eastus2.api.azureml.ms/jasmine/v1.0/subscriptions/610d6e37-4747-4a20-80eb-3aad70a55f43/resourceGroups/aml-quickstarts-161432/providers/Microsoft.MachineLearningServices/workspaces/test-workspace/experimentids/b8b7dfc4-e556-4ed2-b8a9-f96bde2fa60b/cancel/AutoML_ac4bfb14-36a7-40e2-8dac-11314a8a2737\", \"ClientSdkVersion\": \"1.34.1\", \"snapshotId\": \"00000000-0000-0000-0000-000000000000\", \"SetupRunId\": \"AutoML_ac4bfb14-36a7-40e2-8dac-11314a8a2737_setup\", \"SetupRunContainerId\": \"dcid.AutoML_ac4bfb14-36a7-40e2-8dac-11314a8a2737_setup\", \"ProblemInfoJsonString\": \"{\\\"dataset_num_categorical\\\": 0, \\\"is_sparse\\\": false, \\\"subsampling\\\": false, \\\"has_extra_col\\\": true, \\\"dataset_classes\\\": 2, \\\"dataset_features\\\": 16, \\\"dataset_samples\\\": 918, \\\"single_frequency_class_detected\\\": false}\"}, \"tags\": {\"model_explain_run\": \"best_run\", \"_aml_system_azureml.automlComponent\": \"AutoML\", \"pipeline_id\": \"<799d2168db11fc19b9e1c6c1df62f8981ad39fe9>;<c7af0367625be6ac5c2fecbfc72ed444cb7a2111>;<628c2351f7c75d74ad3673f2d39af16d6976da2e>;<5dfac790c5c209f98a1da2dc1c7fb76f0397324f>;<44b5d2d23120dfcf96a7dc6389a293d17a966b1b>;<3735210984ea10097d5c91905cf6300ac278cd89>;<2964988f7520e6167bfe42ba2c42ab4a75f8a68c>;<5f21d4801ee2a6073890b89985177d37ef49c646>;<5304e705d6f401cb07f85bcf0ca59ac1f84dfcf5>;<081b692de9e87424d86c2c1d0787b65e098fc386>;<294650ec23bc3d067a4972de7ceb12f6e97260fa>;<08e13545f5f7e2df5ef6a66d4110cfd996b1a0e3>;<22bffc6cdfb453aa19b0792ec8a8b592bd44dc5b>;<bc4e14e9481990f09b66c70640f3b1c528f584ac>;<ce96746d6f86360fe360023f5ae43340d1986145>;<ca211529127bb19e1fc933b24b457a03beb5e48e>;<589334a57221e0720a95cf217c065115a7b841d1>;<7b422e7b3f86902c2409d5b5d9ff0c84d5dacfee>;<3caa818370e5e0c328d6266c359019bd31681270>;<35b8e2db3c5f6e714072e1be9f0210fe48426975>;<da45f657e4591caadf1589a85a1f7b8932585595>;\", \"score\": \"<0.8115407460204324>;<0.8704086481349489>;<0.724423853646947>;<0.8584164884770729>;<0.8583749109052032>;<0.861671418389166>;<0.8409420289855072>;<0.7341827037301021>;<0.8410014255167498>;<0.8409420289855072>;<0.8518531717747683>;<0.8453195533380852>;<0.8496555001187931>;<0.8518591114278926>;<0.8496436208125446>;<0.7461748633879781>;<0.8671002613447374>;<0.8354953670705632>;<0.8485744832501781>;<0.8627583749109051>;<0.848568543597054>;\", \"predicted_cost\": \"<0.5>;<0>;<0.5>;<0>;<0.5>;<0.2245882>;<0.2245882>;<0.010922041989468216>;<0.042016333214103536>;<0.011825347318101769>;<0.026992612003117245>;<0.06282324595711808>;<0.05969762862812065>;<0.016293890302689473>;<0.008212522212992297>;<0.0175554402701506>;<0.04077190095032488>;<0.016918674245988693>;<0.17899954984176555>;<0.02045512159720153>;<0.03668600936501644>;\", \"fit_time\": \"<0.2245882>;<0.0611428>;<0.0078608>;<0.061818>;<0.017465799999999997>;<0.015440199999999998>;<0.0164186>;<0.0079508>;<0.0122104>;<0.10525860000000001>;<0.0169622>;<0.3469294>;<0.0497602>;<0.0128798>;<0.0143964>;<0.008698>;<0.0137734>;<0.0099438>;<0.0291678>;<0.013473599999999999>;<0.031876>;\", \"training_percent\": \"<100>;<100>;<100>;<100>;<100>;<100>;<100>;<100>;<100>;<100>;<100>;<100>;<100>;<100>;<100>;<100>;<100>;<100>;<100>;<100>;<100>;\", \"iteration\": \"<2>;<1>;<4>;<0>;<3>;<5>;<6>;<8>;<7>;<9>;<10>;<11>;<12>;<13>;<14>;<16>;<18>;<15>;<17>;<19>;<20>;\", \"run_preprocessor\": \"<MaxAbsScaler>;<MaxAbsScaler>;<StandardScalerWrapper>;<MaxAbsScaler>;<SparseNormalizer>;<MaxAbsScaler>;<RobustScaler>;<StandardScalerWrapper>;<MaxAbsScaler>;<StandardScalerWrapper>;<StandardScalerWrapper>;<MinMaxScaler>;<StandardScalerWrapper>;<StandardScalerWrapper>;<RobustScaler>;<SparseNormalizer>;<StandardScalerWrapper>;<MinMaxScaler>;<MaxAbsScaler>;<StandardScalerWrapper>;<MaxAbsScaler>;\", \"run_algorithm\": \"<ExtremeRandomTrees>;<XGBoostClassifier>;<KNN>;<LightGBM>;<XGBoostClassifier>;<LightGBM>;<LogisticRegression>;<KNN>;<LightGBM>;<SVM>;<XGBoostClassifier>;<RandomForest>;<LogisticRegression>;<KNN>;<KNN>;<KNN>;<XGBoostClassifier>;<KNN>;<LogisticRegression>;<XGBoostClassifier>;<LogisticRegression>;\", \"dynamic_whitelisting_iterations\": \"<25>;\"}, \"end_time_utc\": null, \"status\": \"Running\", \"log_files\": {}, \"log_groups\": [], \"run_duration\": \"0:09:53\", \"run_number\": \"1\", \"run_queued_details\": {\"status\": \"Running\", \"details\": null}}, \"child_runs\": [{\"run_id\": \"AutoML_ac4bfb14-36a7-40e2-8dac-11314a8a2737_setup\", \"run_number\": 2, \"metric\": null, \"status\": \"Completed\", \"run_type\": \"azureml.scriptrun\", \"training_percent\": null, \"start_time\": \"2021-10-19T13:12:21.898005Z\", \"end_time\": \"2021-10-19T13:13:51.646081Z\", \"created_time\": \"2021-10-19T13:12:21.898005Z\", \"created_time_dt\": \"2021-10-19T13:12:21.898005Z\", \"duration\": \"0:01:29\", \"iteration\": null, \"goal\": null, \"run_name\": \"Completed\", \"run_properties\": null}, {\"run_id\": \"AutoML_ac4bfb14-36a7-40e2-8dac-11314a8a2737_4\", \"run_number\": 3, \"metric\": null, \"status\": \"Completed\", \"run_type\": \"azureml.scriptrun\", \"training_percent\": \"100\", \"start_time\": \"2021-10-19T13:13:52.665766Z\", \"end_time\": \"2021-10-19T13:15:19.892118Z\", \"created_time\": \"2021-10-19T13:13:52.665766Z\", \"created_time_dt\": \"2021-10-19T13:13:52.665766Z\", \"duration\": \"0:01:27\", \"iteration\": \"4\", \"goal\": \"accuracy_max\", \"run_name\": \"StandardScalerWrapper, KNN\", \"run_properties\": \"algorithm='auto', leaf_size=30, metric='manhattan',\\n                     metric_params=None, n_jobs=1, n_neighbors=5, p=2,\\n                     weights='distance'\", \"primary_metric\": 0.72442385, \"best_metric\": 0.87040865}, {\"run_id\": \"AutoML_ac4bfb14-36a7-40e2-8dac-11314a8a2737_1\", \"run_number\": 4, \"metric\": null, \"status\": \"Completed\", \"run_type\": \"azureml.scriptrun\", \"training_percent\": \"100\", \"start_time\": \"2021-10-19T13:13:52.676274Z\", \"end_time\": \"2021-10-19T13:14:53.236513Z\", \"created_time\": \"2021-10-19T13:13:52.676274Z\", \"created_time_dt\": \"2021-10-19T13:13:52.676274Z\", \"duration\": \"0:01:00\", \"iteration\": \"1\", \"goal\": \"accuracy_max\", \"run_name\": \"MaxAbsScaler, XGBoostClassifier\", \"run_properties\": \"\\n    random_state=0,\\n    n_jobs=1,\\n    problem_info=ProblemInfo(\\n        gpu_training_param_dict={'processing_unit_type': 'cpu'}\\n    \", \"primary_metric\": 0.87040865, \"best_metric\": 0.87040865}, {\"run_id\": \"AutoML_ac4bfb14-36a7-40e2-8dac-11314a8a2737_3\", \"run_number\": 5, \"metric\": null, \"status\": \"Completed\", \"run_type\": \"azureml.scriptrun\", \"training_percent\": \"100\", \"start_time\": \"2021-10-19T13:15:56.637439Z\", \"end_time\": \"2021-10-19T13:16:15.379304Z\", \"created_time\": \"2021-10-19T13:13:52.690696Z\", \"created_time_dt\": \"2021-10-19T13:13:52.690696Z\", \"duration\": \"0:02:22\", \"iteration\": \"3\", \"goal\": \"accuracy_max\", \"run_name\": \"SparseNormalizer, XGBoostClassifier\", \"run_properties\": \"\\n    random_state=0,\\n    n_jobs=1,\\n    problem_info=ProblemInfo(\\n        gpu_training_param_dict={'processing_unit_type': 'cpu'}\\n    \", \"primary_metric\": 0.85837491, \"best_metric\": 0.87040865}, {\"run_id\": \"AutoML_ac4bfb14-36a7-40e2-8dac-11314a8a2737_0\", \"run_number\": 6, \"metric\": null, \"status\": \"Completed\", \"run_type\": \"azureml.scriptrun\", \"training_percent\": \"100\", \"start_time\": \"2021-10-19T13:13:52.696668Z\", \"end_time\": \"2021-10-19T13:15:47.62293Z\", \"created_time\": \"2021-10-19T13:13:52.696668Z\", \"created_time_dt\": \"2021-10-19T13:13:52.696668Z\", \"duration\": \"0:01:54\", \"iteration\": \"0\", \"goal\": \"accuracy_max\", \"run_name\": \"MaxAbsScaler, LightGBM\", \"run_properties\": \"\\n    min_data_in_leaf=20,\\n    random_state=None,\\n    n_jobs=1,\\n    problem_info=ProblemInfo(\\n        gpu_training_param_dict={'processing_unit_type': 'cpu'}\\n    \", \"primary_metric\": 0.85841649, \"best_metric\": 0.85841649}, {\"run_id\": \"AutoML_ac4bfb14-36a7-40e2-8dac-11314a8a2737_2\", \"run_number\": 7, \"metric\": null, \"status\": \"Completed\", \"run_type\": \"azureml.scriptrun\", \"training_percent\": \"100\", \"start_time\": \"2021-10-19T13:13:52.69899Z\", \"end_time\": \"2021-10-19T13:14:23.359335Z\", \"created_time\": \"2021-10-19T13:13:52.69899Z\", \"created_time_dt\": \"2021-10-19T13:13:52.69899Z\", \"duration\": \"0:00:30\", \"iteration\": \"2\", \"goal\": \"accuracy_max\", \"run_name\": \"MaxAbsScaler, ExtremeRandomTrees\", \"run_properties\": \"bootstrap=True, ccp_alpha=0.0, class_weight='balanced',\\n                     criterion='gini', max_depth=None, max_features='sqrt',\\n                     max_leaf_nodes=None, max_samples=None,\\n                     min_impurity_decrease=0.0, min_impurity_split=None,\\n                     min_samples_leaf=0.01,\\n                     min_samples_split=0.15052631578947367,\\n                     min_weight_fraction_leaf=0.0, n_estimators=100, n_jobs=1,\\n                     oob_score=True, random_state=None, verbose=0,\\n                     warm_start=False\", \"primary_metric\": 0.81154075, \"best_metric\": 0.87040865}, {\"run_id\": \"AutoML_ac4bfb14-36a7-40e2-8dac-11314a8a2737_5\", \"run_number\": 8, \"metric\": null, \"status\": \"Completed\", \"run_type\": \"azureml.scriptrun\", \"training_percent\": \"100\", \"start_time\": \"2021-10-19T13:16:30.095284Z\", \"end_time\": \"2021-10-19T13:16:44.851896Z\", \"created_time\": \"2021-10-19T13:14:25.80164Z\", \"created_time_dt\": \"2021-10-19T13:14:25.80164Z\", \"duration\": \"0:02:19\", \"iteration\": \"5\", \"goal\": \"accuracy_max\", \"run_name\": \"MaxAbsScaler, LightGBM\", \"run_properties\": \"\\n    boosting_type='gbdt',\\n    colsample_bytree=0.6933333333333332,\\n    learning_rate=0.09473736842105263,\\n    max_bin=110,\\n    max_depth=8,\\n    min_child_weight=6,\\n    min_data_in_leaf=0.003457931034482759,\\n    min_split_gain=1,\\n    n_estimators=25,\\n    num_leaves=227,\\n    reg_alpha=0.9473684210526315,\\n    reg_lambda=0.42105263157894735,\\n    subsample=0.49526315789473685,\\n    random_state=None,\\n    n_jobs=1,\\n    problem_info=ProblemInfo(\\n        gpu_training_param_dict={'processing_unit_type': 'cpu'}\\n    \", \"primary_metric\": 0.86167142, \"best_metric\": 0.87040865}, {\"run_id\": \"AutoML_ac4bfb14-36a7-40e2-8dac-11314a8a2737_6\", \"run_number\": 9, \"metric\": null, \"status\": \"Completed\", \"run_type\": \"azureml.scriptrun\", \"training_percent\": \"100\", \"start_time\": \"2021-10-19T13:14:55.656683Z\", \"end_time\": \"2021-10-19T13:17:51.778241Z\", \"created_time\": \"2021-10-19T13:14:55.656683Z\", \"created_time_dt\": \"2021-10-19T13:14:55.656683Z\", \"duration\": \"0:02:56\", \"iteration\": \"6\", \"goal\": \"accuracy_max\", \"run_name\": \"RobustScaler, LogisticRegression\", \"run_properties\": \"C=1048.1131341546852, class_weight='balanced', dual=False,\\n                   fit_intercept=True, intercept_scaling=1, l1_ratio=None,\\n                   max_iter=100, multi_class='multinomial', n_jobs=1,\\n                   penalty='l2', random_state=None, solver='lbfgs', tol=0.0001,\\n                   verbose=0, warm_start=False\", \"primary_metric\": 0.84094203, \"best_metric\": 0.87040865}, {\"run_id\": \"AutoML_ac4bfb14-36a7-40e2-8dac-11314a8a2737_7\", \"run_number\": 10, \"metric\": null, \"status\": \"Completed\", \"run_type\": \"azureml.scriptrun\", \"training_percent\": \"100\", \"start_time\": \"2021-10-19T13:15:22.709944Z\", \"end_time\": \"2021-10-19T13:17:54.195454Z\", \"created_time\": \"2021-10-19T13:15:22.709944Z\", \"created_time_dt\": \"2021-10-19T13:15:22.709944Z\", \"duration\": \"0:02:31\", \"iteration\": \"7\", \"goal\": \"accuracy_max\", \"run_name\": \"MaxAbsScaler, LightGBM\", \"run_properties\": \"\\n    boosting_type='gbdt',\\n    colsample_bytree=0.5944444444444444,\\n    learning_rate=0.06316157894736842,\\n    max_bin=260,\\n    max_depth=6,\\n    min_child_weight=2,\\n    min_data_in_leaf=0.003457931034482759,\\n    min_split_gain=0.42105263157894735,\\n    n_estimators=10,\\n    num_leaves=161,\\n    reg_alpha=0.3684210526315789,\\n    reg_lambda=0.15789473684210525,\\n    subsample=0.5447368421052632,\\n    random_state=None,\\n    n_jobs=1,\\n    problem_info=ProblemInfo(\\n        gpu_training_param_dict={'processing_unit_type': 'cpu'}\\n    \", \"primary_metric\": 0.84100143, \"best_metric\": 0.87040865}, {\"run_id\": \"AutoML_ac4bfb14-36a7-40e2-8dac-11314a8a2737_8\", \"run_number\": 11, \"metric\": null, \"status\": \"Completed\", \"run_type\": \"azureml.scriptrun\", \"training_percent\": \"100\", \"start_time\": \"2021-10-19T13:15:50.052869Z\", \"end_time\": \"2021-10-19T13:17:55.353489Z\", \"created_time\": \"2021-10-19T13:15:50.052869Z\", \"created_time_dt\": \"2021-10-19T13:15:50.052869Z\", \"duration\": \"0:02:05\", \"iteration\": \"8\", \"goal\": \"accuracy_max\", \"run_name\": \"StandardScalerWrapper, KNN\", \"run_properties\": \"algorithm='auto', leaf_size=30, metric='l1',\\n                     metric_params=None, n_jobs=1, n_neighbors=8, p=2,\\n                     weights='distance'\", \"primary_metric\": 0.7341827, \"best_metric\": 0.87040865}, {\"run_id\": \"AutoML_ac4bfb14-36a7-40e2-8dac-11314a8a2737_9\", \"run_number\": 12, \"metric\": null, \"status\": \"Completed\", \"run_type\": \"azureml.scriptrun\", \"training_percent\": \"100\", \"start_time\": \"2021-10-19T13:16:17.878856Z\", \"end_time\": \"2021-10-19T13:17:54.551843Z\", \"created_time\": \"2021-10-19T13:16:17.878856Z\", \"created_time_dt\": \"2021-10-19T13:16:17.878856Z\", \"duration\": \"0:01:36\", \"iteration\": \"9\", \"goal\": \"accuracy_max\", \"run_name\": \"StandardScalerWrapper, SVM\", \"run_properties\": \"\\n    random_state=None,\\n    C=16.768329368110066,\\n    break_ties=False,\\n    cache_size=200,\\n    class_weight='balanced',\\n    coef0=0.0,\\n    decision_function_shape='ovr',\\n    degree=3,\\n    gamma='scale',\\n    kernel='rbf',\\n    max_iter=-1,\\n    probability=True,\\n    shrinking=True,\\n    tol=0.001,\\n    verbose=False\\n\", \"primary_metric\": 0.84094203, \"best_metric\": 0.87040865}, {\"run_id\": \"AutoML_ac4bfb14-36a7-40e2-8dac-11314a8a2737_10\", \"run_number\": 13, \"metric\": null, \"status\": \"Completed\", \"run_type\": \"azureml.scriptrun\", \"training_percent\": \"100\", \"start_time\": \"2021-10-19T13:16:47.235263Z\", \"end_time\": \"2021-10-19T13:18:22.735449Z\", \"created_time\": \"2021-10-19T13:16:47.235263Z\", \"created_time_dt\": \"2021-10-19T13:16:47.235263Z\", \"duration\": \"0:01:35\", \"iteration\": \"10\", \"goal\": \"accuracy_max\", \"run_name\": \"StandardScalerWrapper, XGBoostClassifier\", \"run_properties\": \"\\n    random_state=0,\\n    n_jobs=1,\\n    problem_info=ProblemInfo(\\n        gpu_training_param_dict={'processing_unit_type': 'cpu'}\\n    \", \"primary_metric\": 0.85185317, \"best_metric\": 0.87040865}, {\"run_id\": \"AutoML_ac4bfb14-36a7-40e2-8dac-11314a8a2737_11\", \"run_number\": 14, \"metric\": null, \"status\": \"Completed\", \"run_type\": \"azureml.scriptrun\", \"training_percent\": \"100\", \"start_time\": \"2021-10-19T13:17:54.263003Z\", \"end_time\": \"2021-10-19T13:18:22.641135Z\", \"created_time\": \"2021-10-19T13:17:54.263003Z\", \"created_time_dt\": \"2021-10-19T13:17:54.263003Z\", \"duration\": \"0:00:28\", \"iteration\": \"11\", \"goal\": \"accuracy_max\", \"run_name\": \"MinMaxScaler, RandomForest\", \"run_properties\": \"bootstrap=True, ccp_alpha=0.0, class_weight='balanced',\\n                       criterion='gini', max_depth=None, max_features='sqrt',\\n                       max_leaf_nodes=None, max_samples=None,\\n                       min_impurity_decrease=0.0, min_impurity_split=None,\\n                       min_samples_leaf=0.01,\\n                       min_samples_split=0.33789473684210525,\\n                       min_weight_fraction_leaf=0.0, n_estimators=200, n_jobs=1,\\n                       oob_score=False, random_state=None, verbose=0,\\n                       warm_start=False\", \"primary_metric\": 0.84531955, \"best_metric\": 0.87040865}, {\"run_id\": \"AutoML_ac4bfb14-36a7-40e2-8dac-11314a8a2737_14\", \"run_number\": 15, \"metric\": null, \"status\": \"Completed\", \"run_type\": \"azureml.scriptrun\", \"training_percent\": \"100\", \"start_time\": \"2021-10-19T13:17:57.739318Z\", \"end_time\": \"2021-10-19T13:18:59.620815Z\", \"created_time\": \"2021-10-19T13:17:57.739318Z\", \"created_time_dt\": \"2021-10-19T13:17:57.739318Z\", \"duration\": \"0:01:01\", \"iteration\": \"14\", \"goal\": \"accuracy_max\", \"run_name\": \"RobustScaler, KNN\", \"run_properties\": \"algorithm='auto', leaf_size=30, metric='manhattan',\\n                     metric_params=None, n_jobs=1, n_neighbors=4, p=2,\\n                     weights='distance'\", \"primary_metric\": 0.84964362, \"best_metric\": 0.87040865}, {\"run_id\": \"AutoML_ac4bfb14-36a7-40e2-8dac-11314a8a2737_12\", \"run_number\": 16, \"metric\": null, \"status\": \"Completed\", \"run_type\": \"azureml.scriptrun\", \"training_percent\": \"100\", \"start_time\": \"2021-10-19T13:17:57.745414Z\", \"end_time\": \"2021-10-19T13:18:45.611264Z\", \"created_time\": \"2021-10-19T13:17:57.745414Z\", \"created_time_dt\": \"2021-10-19T13:17:57.745414Z\", \"duration\": \"0:00:47\", \"iteration\": \"12\", \"goal\": \"accuracy_max\", \"run_name\": \"StandardScalerWrapper, LogisticRegression\", \"run_properties\": \"C=16.768329368110066, class_weight=None, dual=False,\\n                   fit_intercept=True, intercept_scaling=1, l1_ratio=None,\\n                   max_iter=100, multi_class='multinomial', n_jobs=1,\\n                   penalty='l2', random_state=None, solver='lbfgs', tol=0.0001,\\n                   verbose=0, warm_start=False\", \"primary_metric\": 0.8496555, \"best_metric\": 0.87040865}, {\"run_id\": \"AutoML_ac4bfb14-36a7-40e2-8dac-11314a8a2737_13\", \"run_number\": 17, \"metric\": null, \"status\": \"Completed\", \"run_type\": \"azureml.scriptrun\", \"training_percent\": \"100\", \"start_time\": \"2021-10-19T13:17:57.758267Z\", \"end_time\": \"2021-10-19T13:18:52.804052Z\", \"created_time\": \"2021-10-19T13:17:57.758267Z\", \"created_time_dt\": \"2021-10-19T13:17:57.758267Z\", \"duration\": \"0:00:55\", \"iteration\": \"13\", \"goal\": \"accuracy_max\", \"run_name\": \"StandardScalerWrapper, KNN\", \"run_properties\": \"algorithm='auto', leaf_size=30, metric='manhattan',\\n                     metric_params=None, n_jobs=1, n_neighbors=32, p=2,\\n                     weights='distance'\", \"primary_metric\": 0.85185911, \"best_metric\": 0.87040865}, {\"run_id\": \"AutoML_ac4bfb14-36a7-40e2-8dac-11314a8a2737_15\", \"run_number\": 18, \"metric\": null, \"status\": \"Completed\", \"run_type\": \"azureml.scriptrun\", \"training_percent\": \"100\", \"start_time\": \"2021-10-19T13:18:25.057387Z\", \"end_time\": \"2021-10-19T13:20:26.82752Z\", \"created_time\": \"2021-10-19T13:18:25.057387Z\", \"created_time_dt\": \"2021-10-19T13:18:25.057387Z\", \"duration\": \"0:02:01\", \"iteration\": \"15\", \"goal\": \"accuracy_max\", \"run_name\": \"MinMaxScaler, KNN\", \"run_properties\": \"algorithm='auto', leaf_size=30, metric='manhattan',\\n                     metric_params=None, n_jobs=1, n_neighbors=6, p=2,\\n                     weights='distance'\", \"primary_metric\": 0.83549537, \"best_metric\": 0.87040865}, {\"run_id\": \"AutoML_ac4bfb14-36a7-40e2-8dac-11314a8a2737_16\", \"run_number\": 19, \"metric\": null, \"status\": \"Completed\", \"run_type\": \"azureml.scriptrun\", \"training_percent\": \"100\", \"start_time\": \"2021-10-19T13:18:25.057004Z\", \"end_time\": \"2021-10-19T13:20:26.497187Z\", \"created_time\": \"2021-10-19T13:18:25.057004Z\", \"created_time_dt\": \"2021-10-19T13:18:25.057004Z\", \"duration\": \"0:02:01\", \"iteration\": \"16\", \"goal\": \"accuracy_max\", \"run_name\": \"SparseNormalizer, KNN\", \"run_properties\": \"algorithm='auto', leaf_size=30, metric='manhattan',\\n                     metric_params=None, n_jobs=1, n_neighbors=10, p=2,\\n                     weights='distance'\", \"primary_metric\": 0.74617486, \"best_metric\": 0.87040865}, {\"run_id\": \"AutoML_ac4bfb14-36a7-40e2-8dac-11314a8a2737_17\", \"run_number\": 20, \"metric\": null, \"status\": \"Completed\", \"run_type\": \"azureml.scriptrun\", \"training_percent\": \"100\", \"start_time\": \"2021-10-19T13:18:48.198458Z\", \"end_time\": \"2021-10-19T13:20:27.902518Z\", \"created_time\": \"2021-10-19T13:18:48.198458Z\", \"created_time_dt\": \"2021-10-19T13:18:48.198458Z\", \"duration\": \"0:01:39\", \"iteration\": \"17\", \"goal\": \"accuracy_max\", \"run_name\": \"MaxAbsScaler, LogisticRegression\", \"run_properties\": \"C=1.7575106248547894, class_weight=None, dual=False,\\n                   fit_intercept=True, intercept_scaling=1, l1_ratio=None,\\n                   max_iter=100, multi_class='multinomial', n_jobs=1,\\n                   penalty='l2', random_state=None, solver='lbfgs', tol=0.0001,\\n                   verbose=0, warm_start=False\", \"primary_metric\": 0.84857448, \"best_metric\": 0.87040865}, {\"run_id\": \"AutoML_ac4bfb14-36a7-40e2-8dac-11314a8a2737_18\", \"run_number\": 21, \"metric\": null, \"status\": \"Completed\", \"run_type\": \"azureml.scriptrun\", \"training_percent\": \"100\", \"start_time\": \"2021-10-19T13:18:55.085266Z\", \"end_time\": \"2021-10-19T13:20:27.195698Z\", \"created_time\": \"2021-10-19T13:18:55.085266Z\", \"created_time_dt\": \"2021-10-19T13:18:55.085266Z\", \"duration\": \"0:01:32\", \"iteration\": \"18\", \"goal\": \"accuracy_max\", \"run_name\": \"StandardScalerWrapper, XGBoostClassifier\", \"run_properties\": \"\\n    random_state=0,\\n    n_jobs=1,\\n    problem_info=ProblemInfo(\\n        gpu_training_param_dict={'processing_unit_type': 'cpu'}\\n    \", \"primary_metric\": 0.86710026, \"best_metric\": 0.87040865}, {\"run_id\": \"AutoML_ac4bfb14-36a7-40e2-8dac-11314a8a2737_19\", \"run_number\": 22, \"metric\": null, \"status\": \"Completed\", \"run_type\": \"azureml.scriptrun\", \"training_percent\": \"100\", \"start_time\": \"2021-10-19T13:19:02.099929Z\", \"end_time\": \"2021-10-19T13:20:49.076563Z\", \"created_time\": \"2021-10-19T13:19:02.099929Z\", \"created_time_dt\": \"2021-10-19T13:19:02.099929Z\", \"duration\": \"0:01:46\", \"iteration\": \"19\", \"goal\": \"accuracy_max\", \"run_name\": \"StandardScalerWrapper, XGBoostClassifier\", \"run_properties\": \"\\n    random_state=0,\\n    n_jobs=1,\\n    problem_info=ProblemInfo(\\n        gpu_training_param_dict={'processing_unit_type': 'cpu'}\\n    \", \"primary_metric\": 0.86275837, \"best_metric\": 0.87040865}, {\"run_id\": \"AutoML_ac4bfb14-36a7-40e2-8dac-11314a8a2737_20\", \"run_number\": 23, \"metric\": null, \"status\": \"Completed\", \"run_type\": \"azureml.scriptrun\", \"training_percent\": \"100\", \"start_time\": \"2021-10-19T13:20:29.669476Z\", \"end_time\": \"2021-10-19T13:20:55.815969Z\", \"created_time\": \"2021-10-19T13:20:29.669476Z\", \"created_time_dt\": \"2021-10-19T13:20:29.669476Z\", \"duration\": \"0:00:26\", \"iteration\": \"20\", \"goal\": \"accuracy_max\", \"run_name\": \"MaxAbsScaler, LogisticRegression\", \"run_properties\": \"C=719.6856730011514, class_weight=None, dual=False,\\n                   fit_intercept=True, intercept_scaling=1, l1_ratio=None,\\n                   max_iter=100, multi_class='multinomial', n_jobs=1,\\n                   penalty='l2', random_state=None, solver='lbfgs', tol=0.0001,\\n                   verbose=0, warm_start=False\", \"primary_metric\": 0.84856854, \"best_metric\": 0.87040865}, {\"run_id\": \"AutoML_ac4bfb14-36a7-40e2-8dac-11314a8a2737_21\", \"run_number\": 24, \"metric\": null, \"status\": \"Queued\", \"run_type\": \"azureml.scriptrun\", \"training_percent\": \"100\", \"start_time\": \"\", \"end_time\": \"\", \"created_time\": \"2021-10-19T13:20:34.326023Z\", \"created_time_dt\": \"2021-10-19T13:20:34.326023Z\", \"duration\": \"0:01:28\", \"iteration\": \"21\", \"goal\": null, \"run_name\": \"Queued\", \"run_properties\": null}, {\"run_id\": \"AutoML_ac4bfb14-36a7-40e2-8dac-11314a8a2737_23\", \"run_number\": 25, \"metric\": null, \"status\": \"Queued\", \"run_type\": \"azureml.scriptrun\", \"training_percent\": \"100\", \"start_time\": \"\", \"end_time\": \"\", \"created_time\": \"2021-10-19T13:20:34.338141Z\", \"created_time_dt\": \"2021-10-19T13:20:34.338141Z\", \"duration\": \"0:01:28\", \"iteration\": \"23\", \"goal\": null, \"run_name\": \"Queued\", \"run_properties\": null}, {\"run_id\": \"AutoML_ac4bfb14-36a7-40e2-8dac-11314a8a2737_22\", \"run_number\": 26, \"metric\": null, \"status\": \"Queued\", \"run_type\": \"azureml.scriptrun\", \"training_percent\": \"100\", \"start_time\": \"\", \"end_time\": \"\", \"created_time\": \"2021-10-19T13:20:34.34051Z\", \"created_time_dt\": \"2021-10-19T13:20:34.34051Z\", \"duration\": \"0:01:28\", \"iteration\": \"22\", \"goal\": null, \"run_name\": \"Queued\", \"run_properties\": null}, {\"run_id\": \"AutoML_ac4bfb14-36a7-40e2-8dac-11314a8a2737_24\", \"run_number\": 27, \"metric\": null, \"status\": \"Queued\", \"run_type\": \"azureml.scriptrun\", \"training_percent\": \"100\", \"start_time\": \"\", \"end_time\": \"\", \"created_time\": \"2021-10-19T13:20:52.244148Z\", \"created_time_dt\": \"2021-10-19T13:20:52.244148Z\", \"duration\": \"0:01:11\", \"iteration\": \"24\", \"goal\": null, \"run_name\": \"Queued\", \"run_properties\": null}, {\"run_id\": \"AutoML_ac4bfb14-36a7-40e2-8dac-11314a8a2737_25\", \"run_number\": 28, \"metric\": null, \"status\": \"Queued\", \"run_type\": \"azureml.scriptrun\", \"training_percent\": \"100\", \"start_time\": \"\", \"end_time\": \"\", \"created_time\": \"2021-10-19T13:21:01.660668Z\", \"created_time_dt\": \"2021-10-19T13:21:01.660668Z\", \"duration\": \"0:01:01\", \"iteration\": \"25\", \"goal\": null, \"run_name\": \"Queued\", \"run_properties\": null}], \"children_metrics\": {\"categories\": [0], \"series\": {\"f1_score_weighted\": [{\"categories\": [\"0\", \"1\", \"2\", \"3\", \"4\", \"5\", \"6\", \"7\", \"8\", \"9\", \"10\", \"11\", \"12\", \"13\", \"14\", \"15\", \"16\", \"17\", \"18\", \"19\", \"20\"], \"mode\": \"markers\", \"name\": \"f1_score_weighted\", \"stepped\": false, \"type\": \"scatter\", \"data\": [0.858230102620135, 0.8701865372316349, 0.8119534456048481, 0.8580343321440331, 0.7239219791324437, 0.8611948157474977, 0.8410144108255114, 0.8394642289289831, 0.7335365596560484, 0.8407332074071547, 0.851442576478109, 0.8455750359821093, 0.8493858021287822, 0.8514566909239829, 0.849811808182569, 0.8354312423865207, 0.7449565638942168, 0.8481992455459524, 0.8668345345345015, 0.8624184878063067, 0.8481562818250927]}, {\"categories\": [\"0\", \"1\", \"2\", \"3\", \"4\", \"5\", \"6\", \"7\", \"8\", \"9\", \"10\", \"11\", \"12\", \"13\", \"14\", \"15\", \"16\", \"17\", \"18\", \"19\", \"20\"], \"mode\": \"lines\", \"name\": \"f1_score_weighted_max\", \"stepped\": true, \"type\": \"scatter\", \"data\": [0.858230102620135, 0.8701865372316349, 0.8701865372316349, 0.8701865372316349, 0.8701865372316349, 0.8701865372316349, 0.8701865372316349, 0.8701865372316349, 0.8701865372316349, 0.8701865372316349, 0.8701865372316349, 0.8701865372316349, 0.8701865372316349, 0.8701865372316349, 0.8701865372316349, 0.8701865372316349, 0.8701865372316349, 0.8701865372316349, 0.8701865372316349, 0.8701865372316349, 0.8701865372316349]}], \"norm_macro_recall\": [{\"categories\": [\"0\", \"1\", \"2\", \"3\", \"4\", \"5\", \"6\", \"7\", \"8\", \"9\", \"10\", \"11\", \"12\", \"13\", \"14\", \"15\", \"16\", \"17\", \"18\", \"19\", \"20\"], \"mode\": \"markers\", \"name\": \"norm_macro_recall\", \"stepped\": false, \"type\": \"scatter\", \"data\": [0.7098690735002015, 0.7344695097465682, 0.622780842338573, 0.7085764641256711, 0.4412440333727208, 0.714452629748347, 0.6777999468241153, 0.668210346671817, 0.4563568445239993, 0.6749326915500932, 0.694159817784996, 0.6896025793747842, 0.6913481395544705, 0.6949471961362985, 0.6970380251319216, 0.665130540958929, 0.4765948453747278, 0.6883948351369498, 0.7274093431763629, 0.7177228021037612, 0.6882395581489726]}, {\"categories\": [\"0\", \"1\", \"2\", \"3\", \"4\", \"5\", \"6\", \"7\", \"8\", \"9\", \"10\", \"11\", \"12\", \"13\", \"14\", \"15\", \"16\", \"17\", \"18\", \"19\", \"20\"], \"mode\": \"lines\", \"name\": \"norm_macro_recall_max\", \"stepped\": true, \"type\": \"scatter\", \"data\": [0.7098690735002015, 0.7344695097465682, 0.7344695097465682, 0.7344695097465682, 0.7344695097465682, 0.7344695097465682, 0.7344695097465682, 0.7344695097465682, 0.7344695097465682, 0.7344695097465682, 0.7344695097465682, 0.7344695097465682, 0.7344695097465682, 0.7344695097465682, 0.7344695097465682, 0.7344695097465682, 0.7344695097465682, 0.7344695097465682, 0.7344695097465682, 0.7344695097465682, 0.7344695097465682]}], \"f1_score_micro\": [{\"categories\": [\"0\", \"1\", \"2\", \"3\", \"4\", \"5\", \"6\", \"7\", \"8\", \"9\", \"10\", \"11\", \"12\", \"13\", \"14\", \"15\", \"16\", \"17\", \"18\", \"19\", \"20\"], \"mode\": \"markers\", \"name\": \"f1_score_micro\", \"stepped\": false, \"type\": \"scatter\", \"data\": [0.8584164884770729, 0.8704086481349489, 0.8115407460204324, 0.8583749109052032, 0.724423853646947, 0.861671418389166, 0.8409420289855072, 0.8410014255167498, 0.7341827037301021, 0.8409420289855074, 0.8518531717747683, 0.8453195533380852, 0.8496555001187931, 0.8518591114278926, 0.8496436208125446, 0.8354953670705632, 0.7461748633879781, 0.8485744832501781, 0.8671002613447374, 0.8627583749109051, 0.848568543597054]}, {\"categories\": [\"0\", \"1\", \"2\", \"3\", \"4\", \"5\", \"6\", \"7\", \"8\", \"9\", \"10\", \"11\", \"12\", \"13\", \"14\", \"15\", \"16\", \"17\", \"18\", \"19\", \"20\"], \"mode\": \"lines\", \"name\": \"f1_score_micro_max\", \"stepped\": true, \"type\": \"scatter\", \"data\": [0.8584164884770729, 0.8704086481349489, 0.8704086481349489, 0.8704086481349489, 0.8704086481349489, 0.8704086481349489, 0.8704086481349489, 0.8704086481349489, 0.8704086481349489, 0.8704086481349489, 0.8704086481349489, 0.8704086481349489, 0.8704086481349489, 0.8704086481349489, 0.8704086481349489, 0.8704086481349489, 0.8704086481349489, 0.8704086481349489, 0.8704086481349489, 0.8704086481349489, 0.8704086481349489]}], \"log_loss\": [{\"categories\": [\"0\", \"1\", \"2\", \"3\", \"4\", \"5\", \"6\", \"7\", \"8\", \"9\", \"10\", \"11\", \"12\", \"13\", \"14\", \"15\", \"16\", \"17\", \"18\", \"19\", \"20\"], \"mode\": \"markers\", \"name\": \"log_loss\", \"stepped\": false, \"type\": \"scatter\", \"data\": [0.41009662116460177, 0.32947037450649586, 0.42332622292831, 0.44937223035970153, 1.9464332233322792, 0.35594845451898227, 0.3758186047290694, 0.5033806351959691, 1.3100214057435382, 0.4073429056373444, 0.43958833307572054, 0.46043114296580895, 0.3725554809935344, 0.45470208647095484, 1.6443052771945976, 1.3545823920033004, 0.9581042155819471, 0.3725880820748092, 0.45251604741860785, 0.4585434190410975, 0.3734810133116866]}, {\"categories\": [\"0\", \"1\", \"2\", \"3\", \"4\", \"5\", \"6\", \"7\", \"8\", \"9\", \"10\", \"11\", \"12\", \"13\", \"14\", \"15\", \"16\", \"17\", \"18\", \"19\", \"20\"], \"mode\": \"lines\", \"name\": \"log_loss_min\", \"stepped\": true, \"type\": \"scatter\", \"data\": [0.41009662116460177, 0.32947037450649586, 0.32947037450649586, 0.32947037450649586, 0.32947037450649586, 0.32947037450649586, 0.32947037450649586, 0.32947037450649586, 0.32947037450649586, 0.32947037450649586, 0.32947037450649586, 0.32947037450649586, 0.32947037450649586, 0.32947037450649586, 0.32947037450649586, 0.32947037450649586, 0.32947037450649586, 0.32947037450649586, 0.32947037450649586, 0.32947037450649586, 0.32947037450649586]}], \"average_precision_score_macro\": [{\"categories\": [\"0\", \"1\", \"2\", \"3\", \"4\", \"5\", \"6\", \"7\", \"8\", \"9\", \"10\", \"11\", \"12\", \"13\", \"14\", \"15\", \"16\", \"17\", \"18\", \"19\", \"20\"], \"mode\": \"markers\", \"name\": \"average_precision_score_macro\", \"stepped\": false, \"type\": \"scatter\", \"data\": [0.9178038359206759, 0.9270003982098419, 0.9064441351327235, 0.922325345203563, 0.7560816201290722, 0.9306942141524219, 0.9092220800755495, 0.9134231366382515, 0.7659070241689647, 0.8875532417472318, 0.9235518821355644, 0.9126980564101611, 0.9083261699188357, 0.9165334044568129, 0.8909772463815573, 0.8914945096266089, 0.779709267055434, 0.9086863830079643, 0.9201247902687365, 0.92179971828001, 0.9086972819112672]}, {\"categories\": [\"0\", \"1\", \"2\", \"3\", \"4\", \"5\", \"6\", \"7\", \"8\", \"9\", \"10\", \"11\", \"12\", \"13\", \"14\", \"15\", \"16\", \"17\", \"18\", \"19\", \"20\"], \"mode\": \"lines\", \"name\": \"average_precision_score_macro_max\", \"stepped\": true, \"type\": \"scatter\", \"data\": [0.9178038359206759, 0.9270003982098419, 0.9270003982098419, 0.9270003982098419, 0.9270003982098419, 0.9306942141524219, 0.9306942141524219, 0.9306942141524219, 0.9306942141524219, 0.9306942141524219, 0.9306942141524219, 0.9306942141524219, 0.9306942141524219, 0.9306942141524219, 0.9306942141524219, 0.9306942141524219, 0.9306942141524219, 0.9306942141524219, 0.9306942141524219, 0.9306942141524219, 0.9306942141524219]}], \"accuracy\": [{\"categories\": [\"0\", \"1\", \"2\", \"3\", \"4\", \"5\", \"6\", \"7\", \"8\", \"9\", \"10\", \"11\", \"12\", \"13\", \"14\", \"15\", \"16\", \"17\", \"18\", \"19\", \"20\"], \"mode\": \"markers\", \"name\": \"accuracy\", \"stepped\": false, \"type\": \"scatter\", \"data\": [0.8584164884770729, 0.8704086481349489, 0.8115407460204324, 0.8583749109052032, 0.724423853646947, 0.861671418389166, 0.8409420289855072, 0.8410014255167498, 0.7341827037301021, 0.8409420289855072, 0.8518531717747683, 0.8453195533380852, 0.8496555001187931, 0.8518591114278926, 0.8496436208125446, 0.8354953670705632, 0.7461748633879781, 0.8485744832501781, 0.8671002613447374, 0.8627583749109051, 0.848568543597054]}, {\"categories\": [\"0\", \"1\", \"2\", \"3\", \"4\", \"5\", \"6\", \"7\", \"8\", \"9\", \"10\", \"11\", \"12\", \"13\", \"14\", \"15\", \"16\", \"17\", \"18\", \"19\", \"20\"], \"mode\": \"lines\", \"name\": \"accuracy_max\", \"stepped\": true, \"type\": \"scatter\", \"data\": [0.8584164884770729, 0.8704086481349489, 0.8704086481349489, 0.8704086481349489, 0.8704086481349489, 0.8704086481349489, 0.8704086481349489, 0.8704086481349489, 0.8704086481349489, 0.8704086481349489, 0.8704086481349489, 0.8704086481349489, 0.8704086481349489, 0.8704086481349489, 0.8704086481349489, 0.8704086481349489, 0.8704086481349489, 0.8704086481349489, 0.8704086481349489, 0.8704086481349489, 0.8704086481349489]}], \"precision_score_micro\": [{\"categories\": [\"0\", \"1\", \"2\", \"3\", \"4\", \"5\", \"6\", \"7\", \"8\", \"9\", \"10\", \"11\", \"12\", \"13\", \"14\", \"15\", \"16\", \"17\", \"18\", \"19\", \"20\"], \"mode\": \"markers\", \"name\": \"precision_score_micro\", \"stepped\": false, \"type\": \"scatter\", \"data\": [0.8584164884770729, 0.8704086481349489, 0.8115407460204324, 0.8583749109052032, 0.724423853646947, 0.861671418389166, 0.8409420289855072, 0.8410014255167498, 0.7341827037301021, 0.8409420289855072, 0.8518531717747683, 0.8453195533380852, 0.8496555001187931, 0.8518591114278926, 0.8496436208125446, 0.8354953670705632, 0.7461748633879781, 0.8485744832501781, 0.8671002613447374, 0.8627583749109051, 0.848568543597054]}, {\"categories\": [\"0\", \"1\", \"2\", \"3\", \"4\", \"5\", \"6\", \"7\", \"8\", \"9\", \"10\", \"11\", \"12\", \"13\", \"14\", \"15\", \"16\", \"17\", \"18\", \"19\", \"20\"], \"mode\": \"lines\", \"name\": \"precision_score_micro_max\", \"stepped\": true, \"type\": \"scatter\", \"data\": [0.8584164884770729, 0.8704086481349489, 0.8704086481349489, 0.8704086481349489, 0.8704086481349489, 0.8704086481349489, 0.8704086481349489, 0.8704086481349489, 0.8704086481349489, 0.8704086481349489, 0.8704086481349489, 0.8704086481349489, 0.8704086481349489, 0.8704086481349489, 0.8704086481349489, 0.8704086481349489, 0.8704086481349489, 0.8704086481349489, 0.8704086481349489, 0.8704086481349489, 0.8704086481349489]}], \"matthews_correlation\": [{\"categories\": [\"0\", \"1\", \"2\", \"3\", \"4\", \"5\", \"6\", \"7\", \"8\", \"9\", \"10\", \"11\", \"12\", \"13\", \"14\", \"15\", \"16\", \"17\", \"18\", \"19\", \"20\"], \"mode\": \"markers\", \"name\": \"matthews_correlation\", \"stepped\": false, \"type\": \"scatter\", \"data\": [0.7122140334251245, 0.7377236564507343, 0.620318397225273, 0.7125996384061108, 0.4425328553089227, 0.7201153044960258, 0.6777295430312669, 0.6807095689577752, 0.45936094335569055, 0.6771867063967316, 0.6986489035964369, 0.6873924675379067, 0.6943065576794998, 0.699193063520014, 0.6959157232921142, 0.6661677326920297, 0.48188345592682846, 0.6924409840662279, 0.7308076387267399, 0.7211020919702436, 0.6923551669960653]}, {\"categories\": [\"0\", \"1\", \"2\", \"3\", \"4\", \"5\", \"6\", \"7\", \"8\", \"9\", \"10\", \"11\", \"12\", \"13\", \"14\", \"15\", \"16\", \"17\", \"18\", \"19\", \"20\"], \"mode\": \"lines\", \"name\": \"matthews_correlation_max\", \"stepped\": true, \"type\": \"scatter\", \"data\": [0.7122140334251245, 0.7377236564507343, 0.7377236564507343, 0.7377236564507343, 0.7377236564507343, 0.7377236564507343, 0.7377236564507343, 0.7377236564507343, 0.7377236564507343, 0.7377236564507343, 0.7377236564507343, 0.7377236564507343, 0.7377236564507343, 0.7377236564507343, 0.7377236564507343, 0.7377236564507343, 0.7377236564507343, 0.7377236564507343, 0.7377236564507343, 0.7377236564507343, 0.7377236564507343]}], \"weighted_accuracy\": [{\"categories\": [\"0\", \"1\", \"2\", \"3\", \"4\", \"5\", \"6\", \"7\", \"8\", \"9\", \"10\", \"11\", \"12\", \"13\", \"14\", \"15\", \"16\", \"17\", \"18\", \"19\", \"20\"], \"mode\": \"markers\", \"name\": \"weighted_accuracy\", \"stepped\": false, \"type\": \"scatter\", \"data\": [0.8616901234632867, 0.87340782601722, 0.8116487707310677, 0.8622287790078753, 0.7280704850288305, 0.865868510188822, 0.8428494320966978, 0.8475388020514861, 0.739839088242684, 0.8442464865140579, 0.8563684084728107, 0.8457817475554321, 0.853416033459035, 0.8560172096063828, 0.8507201983532429, 0.8382233868927667, 0.7535680846972559, 0.8527094785842065, 0.8703322994768887, 0.8664772233458248, 0.8527844869430362]}, {\"categories\": [\"0\", \"1\", \"2\", \"3\", \"4\", \"5\", \"6\", \"7\", \"8\", \"9\", \"10\", \"11\", \"12\", \"13\", \"14\", \"15\", \"16\", \"17\", \"18\", \"19\", \"20\"], \"mode\": \"lines\", \"name\": \"weighted_accuracy_max\", \"stepped\": true, \"type\": \"scatter\", \"data\": [0.8616901234632867, 0.87340782601722, 0.87340782601722, 0.87340782601722, 0.87340782601722, 0.87340782601722, 0.87340782601722, 0.87340782601722, 0.87340782601722, 0.87340782601722, 0.87340782601722, 0.87340782601722, 0.87340782601722, 0.87340782601722, 0.87340782601722, 0.87340782601722, 0.87340782601722, 0.87340782601722, 0.87340782601722, 0.87340782601722, 0.87340782601722]}], \"balanced_accuracy\": [{\"categories\": [\"0\", \"1\", \"2\", \"3\", \"4\", \"5\", \"6\", \"7\", \"8\", \"9\", \"10\", \"11\", \"12\", \"13\", \"14\", \"15\", \"16\", \"17\", \"18\", \"19\", \"20\"], \"mode\": \"markers\", \"name\": \"balanced_accuracy\", \"stepped\": false, \"type\": \"scatter\", \"data\": [0.8549345367501008, 0.867234754873284, 0.8113904211692864, 0.8542882320628357, 0.7206220166863605, 0.8572263148741734, 0.8388999734120576, 0.8341051733359084, 0.7281784222619997, 0.8374663457750466, 0.8470799088924981, 0.844801289687392, 0.8456740697772354, 0.8474735980681493, 0.8485190125659606, 0.8325652704794646, 0.7382974226873639, 0.8441974175684749, 0.8637046715881814, 0.8588614010518807, 0.8441197790744864]}, {\"categories\": [\"0\", \"1\", \"2\", \"3\", \"4\", \"5\", \"6\", \"7\", \"8\", \"9\", \"10\", \"11\", \"12\", \"13\", \"14\", \"15\", \"16\", \"17\", \"18\", \"19\", \"20\"], \"mode\": \"lines\", \"name\": \"balanced_accuracy_max\", \"stepped\": true, \"type\": \"scatter\", \"data\": [0.8549345367501008, 0.867234754873284, 0.867234754873284, 0.867234754873284, 0.867234754873284, 0.867234754873284, 0.867234754873284, 0.867234754873284, 0.867234754873284, 0.867234754873284, 0.867234754873284, 0.867234754873284, 0.867234754873284, 0.867234754873284, 0.867234754873284, 0.867234754873284, 0.867234754873284, 0.867234754873284, 0.867234754873284, 0.867234754873284, 0.867234754873284]}], \"precision_score_weighted\": [{\"categories\": [\"0\", \"1\", \"2\", \"3\", \"4\", \"5\", \"6\", \"7\", \"8\", \"9\", \"10\", \"11\", \"12\", \"13\", \"14\", \"15\", \"16\", \"17\", \"18\", \"19\", \"20\"], \"mode\": \"markers\", \"name\": \"precision_score_weighted\", \"stepped\": false, \"type\": \"scatter\", \"data\": [0.8584260107896918, 0.871272538934431, 0.8138892273340422, 0.8594640305713306, 0.7265806336268561, 0.8633419158889385, 0.8419247020699453, 0.8458321395806943, 0.7348342364455418, 0.8418778456065923, 0.8521829871469461, 0.8466522825579847, 0.8502034903073605, 0.8527394179150948, 0.8509687069639369, 0.8361713172390989, 0.7460816187116757, 0.8494589126323948, 0.8683795358559412, 0.8631503937209442, 0.8495201981036429]}, {\"categories\": [\"0\", \"1\", \"2\", \"3\", \"4\", \"5\", \"6\", \"7\", \"8\", \"9\", \"10\", \"11\", \"12\", \"13\", \"14\", \"15\", \"16\", \"17\", \"18\", \"19\", \"20\"], \"mode\": \"lines\", \"name\": \"precision_score_weighted_max\", \"stepped\": true, \"type\": \"scatter\", \"data\": [0.8584260107896918, 0.871272538934431, 0.871272538934431, 0.871272538934431, 0.871272538934431, 0.871272538934431, 0.871272538934431, 0.871272538934431, 0.871272538934431, 0.871272538934431, 0.871272538934431, 0.871272538934431, 0.871272538934431, 0.871272538934431, 0.871272538934431, 0.871272538934431, 0.871272538934431, 0.871272538934431, 0.871272538934431, 0.871272538934431, 0.871272538934431]}], \"recall_score_micro\": [{\"categories\": [\"0\", \"1\", \"2\", \"3\", \"4\", \"5\", \"6\", \"7\", \"8\", \"9\", \"10\", \"11\", \"12\", \"13\", \"14\", \"15\", \"16\", \"17\", \"18\", \"19\", \"20\"], \"mode\": \"markers\", \"name\": \"recall_score_micro\", \"stepped\": false, \"type\": \"scatter\", \"data\": [0.8584164884770729, 0.8704086481349489, 0.8115407460204324, 0.8583749109052032, 0.724423853646947, 0.861671418389166, 0.8409420289855072, 0.8410014255167498, 0.7341827037301021, 0.8409420289855072, 0.8518531717747683, 0.8453195533380852, 0.8496555001187931, 0.8518591114278926, 0.8496436208125446, 0.8354953670705632, 0.7461748633879781, 0.8485744832501781, 0.8671002613447374, 0.8627583749109051, 0.848568543597054]}, {\"categories\": [\"0\", \"1\", \"2\", \"3\", \"4\", \"5\", \"6\", \"7\", \"8\", \"9\", \"10\", \"11\", \"12\", \"13\", \"14\", \"15\", \"16\", \"17\", \"18\", \"19\", \"20\"], \"mode\": \"lines\", \"name\": \"recall_score_micro_max\", \"stepped\": true, \"type\": \"scatter\", \"data\": [0.8584164884770729, 0.8704086481349489, 0.8704086481349489, 0.8704086481349489, 0.8704086481349489, 0.8704086481349489, 0.8704086481349489, 0.8704086481349489, 0.8704086481349489, 0.8704086481349489, 0.8704086481349489, 0.8704086481349489, 0.8704086481349489, 0.8704086481349489, 0.8704086481349489, 0.8704086481349489, 0.8704086481349489, 0.8704086481349489, 0.8704086481349489, 0.8704086481349489, 0.8704086481349489]}], \"average_precision_score_weighted\": [{\"categories\": [\"0\", \"1\", \"2\", \"3\", \"4\", \"5\", \"6\", \"7\", \"8\", \"9\", \"10\", \"11\", \"12\", \"13\", \"14\", \"15\", \"16\", \"17\", \"18\", \"19\", \"20\"], \"mode\": \"markers\", \"name\": \"average_precision_score_weighted\", \"stepped\": false, \"type\": \"scatter\", \"data\": [0.9188668855923847, 0.9273776916799351, 0.9078069647133351, 0.923539053492847, 0.7616775966765003, 0.9314118482628775, 0.9096490257291056, 0.9146224150378519, 0.7712090926988322, 0.8887892319561269, 0.9244302663796387, 0.9133991475345802, 0.9087041842597573, 0.9173514190708266, 0.8927125170642807, 0.8937641763246024, 0.7836161808346108, 0.9091169025808506, 0.9205714306465189, 0.9229119648000543, 0.9090478800019592]}, {\"categories\": [\"0\", \"1\", \"2\", \"3\", \"4\", \"5\", \"6\", \"7\", \"8\", \"9\", \"10\", \"11\", \"12\", \"13\", \"14\", \"15\", \"16\", \"17\", \"18\", \"19\", \"20\"], \"mode\": \"lines\", \"name\": \"average_precision_score_weighted_max\", \"stepped\": true, \"type\": \"scatter\", \"data\": [0.9188668855923847, 0.9273776916799351, 0.9273776916799351, 0.9273776916799351, 0.9273776916799351, 0.9314118482628775, 0.9314118482628775, 0.9314118482628775, 0.9314118482628775, 0.9314118482628775, 0.9314118482628775, 0.9314118482628775, 0.9314118482628775, 0.9314118482628775, 0.9314118482628775, 0.9314118482628775, 0.9314118482628775, 0.9314118482628775, 0.9314118482628775, 0.9314118482628775, 0.9314118482628775]}], \"precision_score_macro\": [{\"categories\": [\"0\", \"1\", \"2\", \"3\", \"4\", \"5\", \"6\", \"7\", \"8\", \"9\", \"10\", \"11\", \"12\", \"13\", \"14\", \"15\", \"16\", \"17\", \"18\", \"19\", \"20\"], \"mode\": \"markers\", \"name\": \"precision_score_macro\", \"stepped\": false, \"type\": \"scatter\", \"data\": [0.8572892642521065, 0.8705180473397025, 0.8089384179466286, 0.8583394814533113, 0.7219453193991809, 0.8629312865540946, 0.838836059818316, 0.8467588445228745, 0.7312063421513657, 0.839748772753617, 0.8515973330649015, 0.8425987751250107, 0.8486476935965035, 0.8517579915367779, 0.8474075525427036, 0.8336084493416553, 0.7436381117881882, 0.8482676365610562, 0.8671311441927971, 0.8622555987068443, 0.8482641518918792]}, {\"categories\": [\"0\", \"1\", \"2\", \"3\", \"4\", \"5\", \"6\", \"7\", \"8\", \"9\", \"10\", \"11\", \"12\", \"13\", \"14\", \"15\", \"16\", \"17\", \"18\", \"19\", \"20\"], \"mode\": \"lines\", \"name\": \"precision_score_macro_max\", \"stepped\": true, \"type\": \"scatter\", \"data\": [0.8572892642521065, 0.8705180473397025, 0.8705180473397025, 0.8705180473397025, 0.8705180473397025, 0.8705180473397025, 0.8705180473397025, 0.8705180473397025, 0.8705180473397025, 0.8705180473397025, 0.8705180473397025, 0.8705180473397025, 0.8705180473397025, 0.8705180473397025, 0.8705180473397025, 0.8705180473397025, 0.8705180473397025, 0.8705180473397025, 0.8705180473397025, 0.8705180473397025, 0.8705180473397025]}], \"recall_score_macro\": [{\"categories\": [\"0\", \"1\", \"2\", \"3\", \"4\", \"5\", \"6\", \"7\", \"8\", \"9\", \"10\", \"11\", \"12\", \"13\", \"14\", \"15\", \"16\", \"17\", \"18\", \"19\", \"20\"], \"mode\": \"markers\", \"name\": \"recall_score_macro\", \"stepped\": false, \"type\": \"scatter\", \"data\": [0.8549345367501008, 0.867234754873284, 0.8113904211692864, 0.8542882320628357, 0.7206220166863605, 0.8572263148741734, 0.8388999734120576, 0.8341051733359084, 0.7281784222619997, 0.8374663457750466, 0.8470799088924981, 0.844801289687392, 0.8456740697772354, 0.8474735980681493, 0.8485190125659606, 0.8325652704794646, 0.7382974226873639, 0.8441974175684749, 0.8637046715881814, 0.8588614010518807, 0.8441197790744864]}, {\"categories\": [\"0\", \"1\", \"2\", \"3\", \"4\", \"5\", \"6\", \"7\", \"8\", \"9\", \"10\", \"11\", \"12\", \"13\", \"14\", \"15\", \"16\", \"17\", \"18\", \"19\", \"20\"], \"mode\": \"lines\", \"name\": \"recall_score_macro_max\", \"stepped\": true, \"type\": \"scatter\", \"data\": [0.8549345367501008, 0.867234754873284, 0.867234754873284, 0.867234754873284, 0.867234754873284, 0.867234754873284, 0.867234754873284, 0.867234754873284, 0.867234754873284, 0.867234754873284, 0.867234754873284, 0.867234754873284, 0.867234754873284, 0.867234754873284, 0.867234754873284, 0.867234754873284, 0.867234754873284, 0.867234754873284, 0.867234754873284, 0.867234754873284, 0.867234754873284]}], \"AUC_micro\": [{\"categories\": [\"0\", \"1\", \"2\", \"3\", \"4\", \"5\", \"6\", \"7\", \"8\", \"9\", \"10\", \"11\", \"12\", \"13\", \"14\", \"15\", \"16\", \"17\", \"18\", \"19\", \"20\"], \"mode\": \"markers\", \"name\": \"AUC_micro\", \"stepped\": false, \"type\": \"scatter\", \"data\": [0.9238369458179451, 0.9317391164641089, 0.907355005326919, 0.9247407090574165, 0.78425938385462, 0.9333978739654434, 0.9141220864230395, 0.9047728843658339, 0.7963397662006332, 0.89553581822158, 0.925917506360608, 0.9150488961587195, 0.9155557165710988, 0.9224999701535606, 0.9104843914481753, 0.9079121923114328, 0.8009673746100983, 0.9152756747680204, 0.9279682058228527, 0.9251545973239752, 0.9153115721673357]}, {\"categories\": [\"0\", \"1\", \"2\", \"3\", \"4\", \"5\", \"6\", \"7\", \"8\", \"9\", \"10\", \"11\", \"12\", \"13\", \"14\", \"15\", \"16\", \"17\", \"18\", \"19\", \"20\"], \"mode\": \"lines\", \"name\": \"AUC_micro_max\", \"stepped\": true, \"type\": \"scatter\", \"data\": [0.9238369458179451, 0.9317391164641089, 0.9317391164641089, 0.9317391164641089, 0.9317391164641089, 0.9333978739654434, 0.9333978739654434, 0.9333978739654434, 0.9333978739654434, 0.9333978739654434, 0.9333978739654434, 0.9333978739654434, 0.9333978739654434, 0.9333978739654434, 0.9333978739654434, 0.9333978739654434, 0.9333978739654434, 0.9333978739654434, 0.9333978739654434, 0.9333978739654434, 0.9333978739654434]}], \"recall_score_weighted\": [{\"categories\": [\"0\", \"1\", \"2\", \"3\", \"4\", \"5\", \"6\", \"7\", \"8\", \"9\", \"10\", \"11\", \"12\", \"13\", \"14\", \"15\", \"16\", \"17\", \"18\", \"19\", \"20\"], \"mode\": \"markers\", \"name\": \"recall_score_weighted\", \"stepped\": false, \"type\": \"scatter\", \"data\": [0.8584164884770729, 0.8704086481349489, 0.8115407460204324, 0.8583749109052032, 0.724423853646947, 0.861671418389166, 0.8409420289855072, 0.8410014255167498, 0.7341827037301021, 0.8409420289855072, 0.8518531717747683, 0.8453195533380852, 0.8496555001187931, 0.8518591114278926, 0.8496436208125446, 0.8354953670705632, 0.7461748633879781, 0.8485744832501781, 0.8671002613447374, 0.8627583749109051, 0.848568543597054]}, {\"categories\": [\"0\", \"1\", \"2\", \"3\", \"4\", \"5\", \"6\", \"7\", \"8\", \"9\", \"10\", \"11\", \"12\", \"13\", \"14\", \"15\", \"16\", \"17\", \"18\", \"19\", \"20\"], \"mode\": \"lines\", \"name\": \"recall_score_weighted_max\", \"stepped\": true, \"type\": \"scatter\", \"data\": [0.8584164884770729, 0.8704086481349489, 0.8704086481349489, 0.8704086481349489, 0.8704086481349489, 0.8704086481349489, 0.8704086481349489, 0.8704086481349489, 0.8704086481349489, 0.8704086481349489, 0.8704086481349489, 0.8704086481349489, 0.8704086481349489, 0.8704086481349489, 0.8704086481349489, 0.8704086481349489, 0.8704086481349489, 0.8704086481349489, 0.8704086481349489, 0.8704086481349489, 0.8704086481349489]}], \"average_precision_score_micro\": [{\"categories\": [\"0\", \"1\", \"2\", \"3\", \"4\", \"5\", \"6\", \"7\", \"8\", \"9\", \"10\", \"11\", \"12\", \"13\", \"14\", \"15\", \"16\", \"17\", \"18\", \"19\", \"20\"], \"mode\": \"markers\", \"name\": \"average_precision_score_micro\", \"stepped\": false, \"type\": \"scatter\", \"data\": [0.9197711385061428, 0.9281909603059187, 0.9066858420224844, 0.922309146502624, 0.7604499270433132, 0.9311398515285992, 0.9069818403804305, 0.8993090553101503, 0.770280922307545, 0.889791020123673, 0.9250550678298228, 0.9132729533380264, 0.9062265047198386, 0.9173172639806598, 0.8927035024072317, 0.8933329847852507, 0.7816454109760167, 0.9068357189601619, 0.9231668426650765, 0.9237200607845619, 0.9064393393114498]}, {\"categories\": [\"0\", \"1\", \"2\", \"3\", \"4\", \"5\", \"6\", \"7\", \"8\", \"9\", \"10\", \"11\", \"12\", \"13\", \"14\", \"15\", \"16\", \"17\", \"18\", \"19\", \"20\"], \"mode\": \"lines\", \"name\": \"average_precision_score_micro_max\", \"stepped\": true, \"type\": \"scatter\", \"data\": [0.9197711385061428, 0.9281909603059187, 0.9281909603059187, 0.9281909603059187, 0.9281909603059187, 0.9311398515285992, 0.9311398515285992, 0.9311398515285992, 0.9311398515285992, 0.9311398515285992, 0.9311398515285992, 0.9311398515285992, 0.9311398515285992, 0.9311398515285992, 0.9311398515285992, 0.9311398515285992, 0.9311398515285992, 0.9311398515285992, 0.9311398515285992, 0.9311398515285992, 0.9311398515285992]}], \"f1_score_macro\": [{\"categories\": [\"0\", \"1\", \"2\", \"3\", \"4\", \"5\", \"6\", \"7\", \"8\", \"9\", \"10\", \"11\", \"12\", \"13\", \"14\", \"15\", \"16\", \"17\", \"18\", \"19\", \"20\"], \"mode\": \"markers\", \"name\": \"f1_score_macro\", \"stepped\": false, \"type\": \"scatter\", \"data\": [0.8559115626559212, 0.8681978287328119, 0.8093866843347565, 0.8554041651792901, 0.7196806756341674, 0.8587332021367355, 0.8384394050956624, 0.8363981488993206, 0.7287033065394615, 0.8379091785218176, 0.8487398305866181, 0.8432779005958217, 0.8466032712722535, 0.8487447318544883, 0.8474555596946731, 0.8326783451689057, 0.7397476710854546, 0.8453939988809237, 0.8644903034611975, 0.860010675936719, 0.8452801329759229]}, {\"categories\": [\"0\", \"1\", \"2\", \"3\", \"4\", \"5\", \"6\", \"7\", \"8\", \"9\", \"10\", \"11\", \"12\", \"13\", \"14\", \"15\", \"16\", \"17\", \"18\", \"19\", \"20\"], \"mode\": \"lines\", \"name\": \"f1_score_macro_max\", \"stepped\": true, \"type\": \"scatter\", \"data\": [0.8559115626559212, 0.8681978287328119, 0.8681978287328119, 0.8681978287328119, 0.8681978287328119, 0.8681978287328119, 0.8681978287328119, 0.8681978287328119, 0.8681978287328119, 0.8681978287328119, 0.8681978287328119, 0.8681978287328119, 0.8681978287328119, 0.8681978287328119, 0.8681978287328119, 0.8681978287328119, 0.8681978287328119, 0.8681978287328119, 0.8681978287328119, 0.8681978287328119, 0.8681978287328119]}], \"AUC_macro\": [{\"categories\": [\"0\", \"1\", \"2\", \"3\", \"4\", \"5\", \"6\", \"7\", \"8\", \"9\", \"10\", \"11\", \"12\", \"13\", \"14\", \"15\", \"16\", \"17\", \"18\", \"19\", \"20\"], \"mode\": \"markers\", \"name\": \"AUC_macro\", \"stepped\": false, \"type\": \"scatter\", \"data\": [0.9209899132797783, 0.9286006175261747, 0.9072478402757598, 0.9228410815169485, 0.7826181635440631, 0.9312606364191426, 0.9126825889261632, 0.9124881365525169, 0.7945941367413104, 0.8898033847462212, 0.9231984574932696, 0.9134752949858639, 0.912518841101648, 0.9203479592324987, 0.9077440903629995, 0.9060008796783071, 0.7971237661554874, 0.9120568796288004, 0.9247759272958224, 0.9222165733943312, 0.9123513698487798]}, {\"categories\": [\"0\", \"1\", \"2\", \"3\", \"4\", \"5\", \"6\", \"7\", \"8\", \"9\", \"10\", \"11\", \"12\", \"13\", \"14\", \"15\", \"16\", \"17\", \"18\", \"19\", \"20\"], \"mode\": \"lines\", \"name\": \"AUC_macro_max\", \"stepped\": true, \"type\": \"scatter\", \"data\": [0.9209899132797783, 0.9286006175261747, 0.9286006175261747, 0.9286006175261747, 0.9286006175261747, 0.9312606364191426, 0.9312606364191426, 0.9312606364191426, 0.9312606364191426, 0.9312606364191426, 0.9312606364191426, 0.9312606364191426, 0.9312606364191426, 0.9312606364191426, 0.9312606364191426, 0.9312606364191426, 0.9312606364191426, 0.9312606364191426, 0.9312606364191426, 0.9312606364191426, 0.9312606364191426]}], \"AUC_weighted\": [{\"categories\": [\"0\", \"1\", \"2\", \"3\", \"4\", \"5\", \"6\", \"7\", \"8\", \"9\", \"10\", \"11\", \"12\", \"13\", \"14\", \"15\", \"16\", \"17\", \"18\", \"19\", \"20\"], \"mode\": \"markers\", \"name\": \"AUC_weighted\", \"stepped\": false, \"type\": \"scatter\", \"data\": [0.9209899132797785, 0.9286006175261747, 0.90724784027576, 0.9228410815169485, 0.7826181635440632, 0.9312606364191425, 0.9126825889261632, 0.9124881365525169, 0.7945941367413103, 0.889803384746221, 0.9231984574932696, 0.9134752949858639, 0.912518841101648, 0.9203479592324987, 0.9077440903629996, 0.9060008796783071, 0.7971237661554874, 0.9120568796288004, 0.9247759272958224, 0.9222165733943312, 0.9123513698487798]}, {\"categories\": [\"0\", \"1\", \"2\", \"3\", \"4\", \"5\", \"6\", \"7\", \"8\", \"9\", \"10\", \"11\", \"12\", \"13\", \"14\", \"15\", \"16\", \"17\", \"18\", \"19\", \"20\"], \"mode\": \"lines\", \"name\": \"AUC_weighted_max\", \"stepped\": true, \"type\": \"scatter\", \"data\": [0.9209899132797785, 0.9286006175261747, 0.9286006175261747, 0.9286006175261747, 0.9286006175261747, 0.9312606364191425, 0.9312606364191425, 0.9312606364191425, 0.9312606364191425, 0.9312606364191425, 0.9312606364191425, 0.9312606364191425, 0.9312606364191425, 0.9312606364191425, 0.9312606364191425, 0.9312606364191425, 0.9312606364191425, 0.9312606364191425, 0.9312606364191425, 0.9312606364191425, 0.9312606364191425]}]}, \"metricName\": null, \"primaryMetricName\": \"accuracy\", \"showLegend\": false}, \"run_metrics\": [{\"name\": \"experiment_status\", \"run_id\": \"AutoML_ac4bfb14-36a7-40e2-8dac-11314a8a2737\", \"categories\": [0], \"series\": [{\"data\": [\"ModelSelection\"]}]}, {\"name\": \"experiment_status_description\", \"run_id\": \"AutoML_ac4bfb14-36a7-40e2-8dac-11314a8a2737\", \"categories\": [0], \"series\": [{\"data\": [\"Beginning model selection.\"]}]}], \"run_logs\": \"Your job is submitted in Azure cloud and we are monitoring to get logs...\", \"graph\": {}, \"widget_settings\": {\"childWidgetDisplay\": \"popup\", \"send_telemetry\": false, \"log_level\": \"INFO\", \"sdk_version\": \"1.34.0\"}, \"loading\": false}"
          },
          "metadata": {}
        }
      ],
      "execution_count": 18,
      "metadata": {
        "gather": {
          "logged": 1634649140036
        },
        "jupyter": {
          "outputs_hidden": false,
          "source_hidden": false
        },
        "nteract": {
          "transient": {
            "deleting": false
          }
        }
      }
    },
    {
      "cell_type": "markdown",
      "source": [
        "## Best Model\n",
        "\n",
        "TODO: In the cell below, get the best model from the automl experiments and display all the properties of the model.\n",
        "\n"
      ],
      "metadata": {}
    },
    {
      "cell_type": "code",
      "source": [
        "best_automl_run = remote_run.get_best_child()\n",
        "print(\"best run details: \", best_automl_run.get_details())\n",
        "print(\"best run metrics: \", best_automl_run.get_metrics())"
      ],
      "outputs": [],
      "execution_count": null,
      "metadata": {
        "gather": {
          "logged": 1598431425670
        },
        "jupyter": {
          "outputs_hidden": false,
          "source_hidden": false
        },
        "nteract": {
          "transient": {
            "deleting": false
          }
        }
      }
    },
    {
      "cell_type": "code",
      "source": [
        "#TODO: Save the best model\n",
        "for f in best_automl_run.get_file_names():\n",
        "    if f.startswith('outputs/model'):\n",
        "        output_file_path = os.path.join('./model', 'automl_model.pkl')\n",
        "        print('Downloading from {} to {} ...'.format(f, output_file_path))\n",
        "        best_automl_run.download_file(name=f, output_file_path=output_file_path)"
      ],
      "outputs": [],
      "execution_count": null,
      "metadata": {
        "gather": {
          "logged": 1598431426111
        },
        "jupyter": {
          "outputs_hidden": false,
          "source_hidden": false
        },
        "nteract": {
          "transient": {
            "deleting": false
          }
        }
      }
    },
    {
      "cell_type": "markdown",
      "source": [
        "## Model Deployment\n",
        "\n",
        "Remember you have to deploy only one of the two models you trained but you still need to register both the models. Perform the steps in the rest of this notebook only if you wish to deploy this model.\n",
        "\n",
        "TODO: In the cell below, register the model, create an inference config and deploy the model as a web service."
      ],
      "metadata": {}
    },
    {
      "cell_type": "code",
      "source": [
        "model_name = best_automl_run.properties['model_name']\n",
        "description = \"AutoML heart-failure classification model\"\n",
        "\n",
        "model = remote_run.register_model(model_name = model_name,\n",
        "                                  description = description)"
      ],
      "outputs": [],
      "execution_count": null,
      "metadata": {
        "gather": {
          "logged": 1598431435189
        },
        "jupyter": {
          "outputs_hidden": false,
          "source_hidden": false
        },
        "nteract": {
          "transient": {
            "deleting": false
          }
        }
      }
    },
    {
      "cell_type": "code",
      "source": [
        "from azureml.core.model import InferenceConfig\n",
        "from azureml.core.webservice import AciWebservice\n",
        "from azureml.core import Model\n",
        "\n",
        "service_name = 'heart-failure-automl-service'\n",
        "\n",
        "inference_config = InferenceConfig(entry_script=\"score.py\")\n",
        "aci_config = AciWebservice.deploy_configuration(cpu_cores=1, memory_gb=1,\n",
        "                                                enable_app_insights=True)\n",
        "\n",
        "service = Model.deplay(workspace=ws,\n",
        "                       name=service_name,\n",
        "                       models=[model],\n",
        "                       inference_config=inference_config,\n",
        "                       deployment_config=aci_config,\n",
        "                       overwrite=True)\n",
        "service.wait_for_deployment(show_output=True)"
      ],
      "outputs": [],
      "execution_count": null,
      "metadata": {}
    },
    {
      "cell_type": "markdown",
      "source": [
        "TODO: In the cell below, send a request to the web service you deployed to test it."
      ],
      "metadata": {
        "collapsed": true,
        "gather": {
          "logged": 1598431657736
        },
        "jupyter": {
          "outputs_hidden": false,
          "source_hidden": false
        },
        "nteract": {
          "transient": {
            "deleting": false
          }
        }
      }
    },
    {
      "cell_type": "code",
      "source": [
        "# take any line from the dataset and run it against the webservice"
      ],
      "outputs": [],
      "execution_count": null,
      "metadata": {
        "gather": {
          "logged": 1598432707604
        },
        "jupyter": {
          "outputs_hidden": false,
          "source_hidden": false
        },
        "nteract": {
          "transient": {
            "deleting": false
          }
        }
      }
    },
    {
      "cell_type": "markdown",
      "source": [
        "TODO: In the cell below, print the logs of the web service and delete the service"
      ],
      "metadata": {
        "collapsed": true,
        "gather": {
          "logged": 1598432765711
        },
        "jupyter": {
          "outputs_hidden": false,
          "source_hidden": false
        },
        "nteract": {
          "transient": {
            "deleting": false
          }
        }
      }
    },
    {
      "cell_type": "code",
      "source": [
        "service.delete()"
      ],
      "outputs": [],
      "execution_count": null,
      "metadata": {
        "jupyter": {
          "outputs_hidden": false,
          "source_hidden": false
        },
        "nteract": {
          "transient": {
            "deleting": false
          }
        }
      }
    },
    {
      "cell_type": "markdown",
      "source": [
        "**Submission Checklist**\n",
        "- I have registered the model.\n",
        "- I have deployed the model with the best accuracy as a webservice.\n",
        "- I have tested the webservice by sending a request to the model endpoint.\n",
        "- I have deleted the webservice and shutdown all the computes that I have used.\n",
        "- I have taken a screenshot showing the model endpoint as active.\n",
        "- The project includes a file containing the environment details.\n"
      ],
      "metadata": {}
    },
    {
      "cell_type": "markdown",
      "source": [],
      "metadata": {}
    }
  ],
  "metadata": {
    "kernel_info": {
      "name": "python3"
    },
    "kernelspec": {
      "name": "python3",
      "language": "python",
      "display_name": "Python 3"
    },
    "language_info": {
      "name": "python",
      "version": "3.6.9",
      "mimetype": "text/x-python",
      "codemirror_mode": {
        "name": "ipython",
        "version": 3
      },
      "pygments_lexer": "ipython3",
      "nbconvert_exporter": "python",
      "file_extension": ".py"
    },
    "nteract": {
      "version": "nteract-front-end@1.0.0"
    },
    "microsoft": {
      "host": {
        "AzureML": {
          "notebookHasBeenCompleted": true
        }
      }
    }
  },
  "nbformat": 4,
  "nbformat_minor": 2
}